{
 "cells": [
  {
   "cell_type": "markdown",
   "metadata": {},
   "source": [
    "# `Titanic Survival Prediction`"
   ]
  },
  {
   "cell_type": "markdown",
   "metadata": {},
   "source": [
    "## `Project overview`\n",
    "\n",
    "Develop a machine learning model to predict passenger survival on the Titanic based on individual attributes. The goal is to uncover patterns in the data that contribute to survival outcomes during the Titanic disaster.\n"
   ]
  },
  {
   "cell_type": "markdown",
   "metadata": {},
   "source": [
    "## `Problem Statement` \n",
    "\n",
    "Develop a machine learning model to predict the likelihood of survival for passengers aboard the Titanic. Analyze and model the relationships between individual attributes, such as age, gender, class, fare, and cabin, to accurately classify whether a passenger survived or not during the Titanic disaster.\n",
    "\n",
    "This project aims to contribute insights into the factors that played a significant role in passenger survival, leveraging historical data for predictive modeling. The ultimate goal is to develop a robust model that can be applied to similar scenarios, improving risk assessment and safety measures in the travel industry.\n"
   ]
  },
  {
   "cell_type": "markdown",
   "metadata": {},
   "source": [
    "## `Project objectives`\n",
    "\n",
    "**Predictive Modeling**\n",
    "\n",
    "Develop a machine learning model to predict whether a passenger survived or not during the Titanic disaster based on historical data."
   ]
  },
  {
   "cell_type": "markdown",
   "metadata": {},
   "source": [
    "## `Evaluation of metrics`\n",
    "\n",
    "In line with the main project objective of predicting passenger survival, the model's performance will be assessed using the following the `Accuracy:` Measures the overall correctness of the survival predictions.\n"
   ]
  },
  {
   "cell_type": "markdown",
   "metadata": {},
   "source": [
    "## `Data Understanding`\n",
    "\n",
    "The Titanic dataset, consisting of 418 entries and 12 columns, provides information about passengers aboard the Titanic during its ill-fated voyage. Key columns include:\n",
    "\n",
    "`PassengerId:` Unique identifier for each passenger.\n",
    "\n",
    "`Survived:` Binary variable indicating survival (1 for survived, 0 for not survived).\n",
    "\n",
    "`Pclass:` Ticket class (1st, 2nd, or 3rd).\n",
    "\n",
    "`Name:` Name of the passenger.\n",
    "\n",
    "`Sex:` Gender of the passenger.\n",
    "\n",
    "`Age:` Age of the passenger (with some missing values).\n",
    "\n",
    "`SibSp:` Number of siblings or spouses aboard.\n",
    "\n",
    "`Parch:` Number of parents or children aboard.\n",
    "\n",
    "`Ticket:` Ticket number.\n",
    "\n",
    "`Fare:` Fare paid for the ticket (with a missing value).\n",
    "\n",
    "`Cabin:` Cabin number (with several missing values).\n",
    "\n",
    "`Embarked:` Port of embarkation (C for Cherbourg, Q for Queenstown, S for Southampton).\n",
    "\n",
    "The dataset captures details of passengers and circumstances related to the Titanic disaster. The project aims to leverage this data to predict passenger survival."
   ]
  },
  {
   "cell_type": "markdown",
   "metadata": {},
   "source": [
    "## `Data preparation`\n",
    "\n",
    "#### Loading the Dataset"
   ]
  },
  {
   "cell_type": "code",
   "execution_count": 1,
   "metadata": {},
   "outputs": [],
   "source": [
    "#importing libraries \n",
    "import pandas as pd\n",
    "import numpy as np\n",
    "from sklearn.model_selection import train_test_split\n",
    "from sklearn.model_selection import cross_val_score, StratifiedKFold\n",
    "from sklearn.ensemble import RandomForestClassifier\n",
    "from sklearn.linear_model import LogisticRegression\n",
    "from sklearn.neighbors import KNeighborsClassifier\n",
    "from sklearn.tree import DecisionTreeClassifier\n",
    "from sklearn.svm import SVC\n",
    "from sklearn.metrics import accuracy_score, classification_report, confusion_matrix\n"
   ]
  },
  {
   "cell_type": "code",
   "execution_count": 2,
   "metadata": {},
   "outputs": [
    {
     "data": {
      "text/html": [
       "<div>\n",
       "<style scoped>\n",
       "    .dataframe tbody tr th:only-of-type {\n",
       "        vertical-align: middle;\n",
       "    }\n",
       "\n",
       "    .dataframe tbody tr th {\n",
       "        vertical-align: top;\n",
       "    }\n",
       "\n",
       "    .dataframe thead th {\n",
       "        text-align: right;\n",
       "    }\n",
       "</style>\n",
       "<table border=\"1\" class=\"dataframe\">\n",
       "  <thead>\n",
       "    <tr style=\"text-align: right;\">\n",
       "      <th></th>\n",
       "      <th>PassengerId</th>\n",
       "      <th>Survived</th>\n",
       "      <th>Pclass</th>\n",
       "      <th>Name</th>\n",
       "      <th>Sex</th>\n",
       "      <th>Age</th>\n",
       "      <th>SibSp</th>\n",
       "      <th>Parch</th>\n",
       "      <th>Ticket</th>\n",
       "      <th>Fare</th>\n",
       "      <th>Cabin</th>\n",
       "      <th>Embarked</th>\n",
       "    </tr>\n",
       "  </thead>\n",
       "  <tbody>\n",
       "    <tr>\n",
       "      <th>0</th>\n",
       "      <td>892</td>\n",
       "      <td>0</td>\n",
       "      <td>3</td>\n",
       "      <td>Kelly, Mr. James</td>\n",
       "      <td>male</td>\n",
       "      <td>34.5</td>\n",
       "      <td>0</td>\n",
       "      <td>0</td>\n",
       "      <td>330911</td>\n",
       "      <td>7.8292</td>\n",
       "      <td>NaN</td>\n",
       "      <td>Q</td>\n",
       "    </tr>\n",
       "    <tr>\n",
       "      <th>1</th>\n",
       "      <td>893</td>\n",
       "      <td>1</td>\n",
       "      <td>3</td>\n",
       "      <td>Wilkes, Mrs. James (Ellen Needs)</td>\n",
       "      <td>female</td>\n",
       "      <td>47.0</td>\n",
       "      <td>1</td>\n",
       "      <td>0</td>\n",
       "      <td>363272</td>\n",
       "      <td>7.0000</td>\n",
       "      <td>NaN</td>\n",
       "      <td>S</td>\n",
       "    </tr>\n",
       "    <tr>\n",
       "      <th>2</th>\n",
       "      <td>894</td>\n",
       "      <td>0</td>\n",
       "      <td>2</td>\n",
       "      <td>Myles, Mr. Thomas Francis</td>\n",
       "      <td>male</td>\n",
       "      <td>62.0</td>\n",
       "      <td>0</td>\n",
       "      <td>0</td>\n",
       "      <td>240276</td>\n",
       "      <td>9.6875</td>\n",
       "      <td>NaN</td>\n",
       "      <td>Q</td>\n",
       "    </tr>\n",
       "    <tr>\n",
       "      <th>3</th>\n",
       "      <td>895</td>\n",
       "      <td>0</td>\n",
       "      <td>3</td>\n",
       "      <td>Wirz, Mr. Albert</td>\n",
       "      <td>male</td>\n",
       "      <td>27.0</td>\n",
       "      <td>0</td>\n",
       "      <td>0</td>\n",
       "      <td>315154</td>\n",
       "      <td>8.6625</td>\n",
       "      <td>NaN</td>\n",
       "      <td>S</td>\n",
       "    </tr>\n",
       "    <tr>\n",
       "      <th>4</th>\n",
       "      <td>896</td>\n",
       "      <td>1</td>\n",
       "      <td>3</td>\n",
       "      <td>Hirvonen, Mrs. Alexander (Helga E Lindqvist)</td>\n",
       "      <td>female</td>\n",
       "      <td>22.0</td>\n",
       "      <td>1</td>\n",
       "      <td>1</td>\n",
       "      <td>3101298</td>\n",
       "      <td>12.2875</td>\n",
       "      <td>NaN</td>\n",
       "      <td>S</td>\n",
       "    </tr>\n",
       "  </tbody>\n",
       "</table>\n",
       "</div>"
      ],
      "text/plain": [
       "   PassengerId  Survived  Pclass  \\\n",
       "0          892         0       3   \n",
       "1          893         1       3   \n",
       "2          894         0       2   \n",
       "3          895         0       3   \n",
       "4          896         1       3   \n",
       "\n",
       "                                           Name     Sex   Age  SibSp  Parch  \\\n",
       "0                              Kelly, Mr. James    male  34.5      0      0   \n",
       "1              Wilkes, Mrs. James (Ellen Needs)  female  47.0      1      0   \n",
       "2                     Myles, Mr. Thomas Francis    male  62.0      0      0   \n",
       "3                              Wirz, Mr. Albert    male  27.0      0      0   \n",
       "4  Hirvonen, Mrs. Alexander (Helga E Lindqvist)  female  22.0      1      1   \n",
       "\n",
       "    Ticket     Fare Cabin Embarked  \n",
       "0   330911   7.8292   NaN        Q  \n",
       "1   363272   7.0000   NaN        S  \n",
       "2   240276   9.6875   NaN        Q  \n",
       "3   315154   8.6625   NaN        S  \n",
       "4  3101298  12.2875   NaN        S  "
      ]
     },
     "execution_count": 2,
     "metadata": {},
     "output_type": "execute_result"
    }
   ],
   "source": [
    "#loading the dataset\n",
    "df = pd.read_csv('tested.csv')\n",
    "df.head()"
   ]
  },
  {
   "cell_type": "code",
   "execution_count": 3,
   "metadata": {},
   "outputs": [
    {
     "name": "stdout",
     "output_type": "stream",
     "text": [
      "<class 'pandas.core.frame.DataFrame'>\n",
      "RangeIndex: 418 entries, 0 to 417\n",
      "Data columns (total 12 columns):\n",
      " #   Column       Non-Null Count  Dtype  \n",
      "---  ------       --------------  -----  \n",
      " 0   PassengerId  418 non-null    int64  \n",
      " 1   Survived     418 non-null    int64  \n",
      " 2   Pclass       418 non-null    int64  \n",
      " 3   Name         418 non-null    object \n",
      " 4   Sex          418 non-null    object \n",
      " 5   Age          332 non-null    float64\n",
      " 6   SibSp        418 non-null    int64  \n",
      " 7   Parch        418 non-null    int64  \n",
      " 8   Ticket       418 non-null    object \n",
      " 9   Fare         417 non-null    float64\n",
      " 10  Cabin        91 non-null     object \n",
      " 11  Embarked     418 non-null    object \n",
      "dtypes: float64(2), int64(5), object(5)\n",
      "memory usage: 39.3+ KB\n"
     ]
    }
   ],
   "source": [
    "df.info()"
   ]
  },
  {
   "cell_type": "markdown",
   "metadata": {},
   "source": [
    " ### `Data Cleaning`\n",
    "\n",
    "To ensure the development of a robust and accurate model, several data cleaning techniques will be applied to the dataset. The following techniques will be employed:\n",
    "\n",
    "`Completeness:` This technique involves addressing missing values within the dataset. Steps will be taken to identify and handle missing data appropriately, either through imputation or removal, to ensure that the dataset is complete.\n",
    "\n",
    "`Consistency:` The consistency of the data will be examined to identify any discrepancies or irregularities. Inconsistencies in variables, such as conflicting formats or conflicting information within the dataset, will be addressed and resolved to maintain data integrity.\n",
    "\n",
    "`Validity:` Validity refers to the accuracy and relevance of the data. Data validation techniques will be applied to verify that the values within each variable align with expected ranges or predefined criteria. Any invalid or erroneous data points will be rectified or removed from the dataset.\n",
    "\n",
    "`Uniformity:` Uniformity is crucial during the data cleaning process to ensure consistency and accurate analysis. Inconsistent or non-uniform data can introduce errors and bias into the modeling process, leading to unreliable results. Robust techniques will be employed to detect and handle non-uniformity effectively, ensuring that the data is standardized and aligned.\n",
    "\n",
    "By applying these data cleaning techniques, the dataset will be refined and prepared, ensuring the reliability and accuracy of the data before proceeding with the subsequent stages of analysis and modeling."
   ]
  },
  {
   "cell_type": "markdown",
   "metadata": {},
   "source": [
    "<span style=\"font-size: larger;\">`Completeness`.</span>"
   ]
  },
  {
   "cell_type": "code",
   "execution_count": 4,
   "metadata": {},
   "outputs": [
    {
     "data": {
      "image/png": "[encoded data removed]",
      "text/plain": [
       "<Figure size 720x432 with 3 Axes>"
      ]
     },
     "metadata": {
      "needs_background": "light"
     },
     "output_type": "display_data"
    }
   ],
   "source": [
    "# checking for missing values\n",
    "import missingno as msno\n",
    "import matplotlib.pyplot as plt\n",
    "import seaborn as sns\n",
    "\n",
    "# Set a custom color palette\n",
    "custom_palette = sns.color_palette(\"YlOrRd\")\n",
    "\n",
    "# Plot the bar chart with the custom color palette\n",
    "msno.bar(df, figsize=(10, 6), color=custom_palette, fontsize=12)\n",
    "\n",
    "# Add title and customize the plot\n",
    "plt.title('Percentage of Missing Values in Each Column', fontsize=16)\n",
    "plt.show()"
   ]
  },
  {
   "cell_type": "markdown",
   "metadata": {},
   "source": [
    "Using Imputation method to handle missing values in `Age` and `Fare` columns"
   ]
  },
  {
   "cell_type": "code",
   "execution_count": 5,
   "metadata": {},
   "outputs": [],
   "source": [
    "# Filling missing 'Age' values with the mean\n",
    "df['Age'].fillna(df['Age'].mean(), inplace=True)"
   ]
  },
  {
   "cell_type": "code",
   "execution_count": 6,
   "metadata": {},
   "outputs": [],
   "source": [
    "# Filling missing 'Fare' value with the mean\n",
    "df['Fare'].fillna(df['Fare'].mean(), inplace=True)"
   ]
  },
  {
   "cell_type": "markdown",
   "metadata": {},
   "source": [
    "The `Cabin` column has a significant proportion of missing values, approximately 78% (327 out of 418). Considering the high percentage, we drop this column from analysis."
   ]
  },
  {
   "cell_type": "code",
   "execution_count": 7,
   "metadata": {},
   "outputs": [],
   "source": [
    "# Dropping the 'Cabin' column\n",
    "df.drop('Cabin', axis=1, inplace=True)"
   ]
  },
  {
   "cell_type": "code",
   "execution_count": 8,
   "metadata": {},
   "outputs": [
    {
     "data": {
      "text/plain": [
       "PassengerId    0\n",
       "Survived       0\n",
       "Pclass         0\n",
       "Name           0\n",
       "Sex            0\n",
       "Age            0\n",
       "SibSp          0\n",
       "Parch          0\n",
       "Ticket         0\n",
       "Fare           0\n",
       "Embarked       0\n",
       "dtype: int64"
      ]
     },
     "execution_count": 8,
     "metadata": {},
     "output_type": "execute_result"
    }
   ],
   "source": [
    "#checking to see if the missing values are still there\n",
    "df.isna().sum()"
   ]
  },
  {
   "cell_type": "markdown",
   "metadata": {},
   "source": [
    "<span style=\"font-size: larger;\">`Consistency`.</span>\n"
   ]
  },
  {
   "cell_type": "code",
   "execution_count": 9,
   "metadata": {},
   "outputs": [
    {
     "name": "stdout",
     "output_type": "stream",
     "text": [
      "The data has 0 duplicates\n"
     ]
    }
   ],
   "source": [
    "# checking for duplicates\n",
    "print(f'The data has {df.duplicated().sum()} duplicates')"
   ]
  },
  {
   "cell_type": "markdown",
   "metadata": {},
   "source": [
    "The data has no duplicates hence it's consistent."
   ]
  },
  {
   "cell_type": "markdown",
   "metadata": {},
   "source": [
    "<span style=\"font-size: larger;\">`Validity`.</span>\n",
    "\n",
    "1. `Validating Numerical Values:`\n",
    "\n",
    "we can use statistical methods to identify values that fall outside expected ranges or criteria."
   ]
  },
  {
   "cell_type": "code",
   "execution_count": 10,
   "metadata": {},
   "outputs": [
    {
     "name": "stdout",
     "output_type": "stream",
     "text": [
      "Invalid Age Values:\n",
      "Series([], Name: Age, dtype: float64)\n",
      "\n",
      "Invalid Fare Values:\n",
      "Series([], Name: Fare, dtype: float64)\n"
     ]
    }
   ],
   "source": [
    "# Validating numerical columns ('Age', 'Fare')\n",
    "# Define expected ranges or criteria\n",
    "age_range = (0, 100)  # Example age range\n",
    "fare_range = (0, float('inf'))  # Example fare range\n",
    "\n",
    "# Check for values outside the expected ranges\n",
    "invalid_age_values = df.loc[~df['Age'].between(*age_range), 'Age']\n",
    "invalid_fare_values = df.loc[~df['Fare'].between(*fare_range), 'Fare']\n",
    "\n",
    "# Display the invalid values\n",
    "print(\"Invalid Age Values:\")\n",
    "print(invalid_age_values)\n",
    "\n",
    "print(\"\\nInvalid Fare Values:\")\n",
    "print(invalid_fare_values)"
   ]
  },
  {
   "cell_type": "markdown",
   "metadata": {},
   "source": [
    "There are no invalid values for the `Age` and `Fare` columns based on the specific validity criteria we checked."
   ]
  },
  {
   "cell_type": "markdown",
   "metadata": {},
   "source": [
    "2. `Validating Categorical Values:`\n",
    "\n",
    "For categorical variables, we define a set of valid categories and identify any values that do not match."
   ]
  },
  {
   "cell_type": "code",
   "execution_count": 11,
   "metadata": {},
   "outputs": [
    {
     "name": "stdout",
     "output_type": "stream",
     "text": [
      "Invalid Sex Values:\n",
      "Series([], Name: Sex, dtype: object)\n",
      "\n",
      "Invalid Embarked Values:\n",
      "Series([], Name: Embarked, dtype: object)\n"
     ]
    }
   ],
   "source": [
    "# Validating categorical columns ('Sex', 'Embarked')\n",
    "# Define valid categories\n",
    "valid_sex_categories = {'male', 'female'}\n",
    "valid_embarked_categories = {'C', 'Q', 'S'}\n",
    "\n",
    "# Check for values not in the valid categories\n",
    "invalid_sex_values = df.loc[~df['Sex'].isin(valid_sex_categories), 'Sex']\n",
    "invalid_embarked_values = df.loc[~df['Embarked'].isin(valid_embarked_categories), 'Embarked']\n",
    "\n",
    "# Display the invalid values\n",
    "print(\"Invalid Sex Values:\")\n",
    "print(invalid_sex_values)\n",
    "\n",
    "print(\"\\nInvalid Embarked Values:\")\n",
    "print(invalid_embarked_values)"
   ]
  },
  {
   "cell_type": "markdown",
   "metadata": {},
   "source": [
    "<span style=\"font-size: larger;\">`Uniformity`.</span>"
   ]
  },
  {
   "cell_type": "code",
   "execution_count": 12,
   "metadata": {},
   "outputs": [
    {
     "name": "stdout",
     "output_type": "stream",
     "text": [
      "Column: Sex\n",
      "Unique Values: ['male' 'female']\n",
      "Value Counts:\n",
      " male      266\n",
      "female    152\n",
      "Name: Sex, dtype: int64\n",
      "----------------------------\n"
     ]
    },
    {
     "data": {
      "image/png": "[encoded data removed]",
      "text/plain": [
       "<Figure size 576x360 with 1 Axes>"
      ]
     },
     "metadata": {
      "needs_background": "light"
     },
     "output_type": "display_data"
    },
    {
     "name": "stdout",
     "output_type": "stream",
     "text": [
      "Column: Embarked\n",
      "Unique Values: ['Q' 'S' 'C']\n",
      "Value Counts:\n",
      " S    270\n",
      "C    102\n",
      "Q     46\n",
      "Name: Embarked, dtype: int64\n",
      "----------------------------\n"
     ]
    },
    {
     "data": {
      "image/png": "[encoded data removed]",
      "text/plain": [
       "<Figure size 576x360 with 1 Axes>"
      ]
     },
     "metadata": {
      "needs_background": "light"
     },
     "output_type": "display_data"
    },
    {
     "name": "stdout",
     "output_type": "stream",
     "text": [
      "Column: Survived\n",
      "Unique Values: [0 1]\n",
      "Value Counts:\n",
      " 0    266\n",
      "1    152\n",
      "Name: Survived, dtype: int64\n",
      "----------------------------\n"
     ]
    },
    {
     "data": {
      "image/png": "[encoded data removed]",
      "text/plain": [
       "<Figure size 576x360 with 1 Axes>"
      ]
     },
     "metadata": {
      "needs_background": "light"
     },
     "output_type": "display_data"
    }
   ],
   "source": [
    "#creating a function to check for uniformity \n",
    "def check_uniformity(dataframe, columns):\n",
    "    for column in columns:\n",
    "        unique_values = dataframe[column].unique()\n",
    "        value_counts = dataframe[column].value_counts()\n",
    "\n",
    "        print(f\"Column: {column}\")\n",
    "        print(\"Unique Values:\", unique_values)\n",
    "        print(\"Value Counts:\\n\", value_counts)\n",
    "        print(\"----------------------------\")\n",
    "\n",
    "        # Plot a bar chart for value counts\n",
    "        plt.figure(figsize=(8, 5))\n",
    "        sns.countplot(x=dataframe[column], palette='viridis')\n",
    "        plt.title(f'Distribution of {column}')\n",
    "        plt.show()\n",
    "\n",
    "# Specify the columns you want to check for uniformity\n",
    "columns_to_check = ['Sex', 'Embarked', 'Survived']\n",
    "\n",
    "# Call the function\n",
    "check_uniformity(df, columns_to_check)"
   ]
  },
  {
   "cell_type": "markdown",
   "metadata": {},
   "source": [
    "Both `Sex` and `Embarked` columns appear to be uniform, with consistent and expected values. There is no indication of irregularities or unexpected variations in these categorical columns based on the provided output"
   ]
  },
  {
   "cell_type": "markdown",
   "metadata": {},
   "source": [
    "**Creating categorical variable for traveling alone and label encoding**"
   ]
  },
  {
   "cell_type": "code",
   "execution_count": 13,
   "metadata": {},
   "outputs": [
    {
     "data": {
      "text/html": [
       "<div>\n",
       "<style scoped>\n",
       "    .dataframe tbody tr th:only-of-type {\n",
       "        vertical-align: middle;\n",
       "    }\n",
       "\n",
       "    .dataframe tbody tr th {\n",
       "        vertical-align: top;\n",
       "    }\n",
       "\n",
       "    .dataframe thead th {\n",
       "        text-align: right;\n",
       "    }\n",
       "</style>\n",
       "<table border=\"1\" class=\"dataframe\">\n",
       "  <thead>\n",
       "    <tr style=\"text-align: right;\">\n",
       "      <th></th>\n",
       "      <th>PassengerId</th>\n",
       "      <th>Survived</th>\n",
       "      <th>Pclass</th>\n",
       "      <th>Name</th>\n",
       "      <th>Sex</th>\n",
       "      <th>Age</th>\n",
       "      <th>SibSp</th>\n",
       "      <th>Parch</th>\n",
       "      <th>Ticket</th>\n",
       "      <th>Fare</th>\n",
       "      <th>Embarked</th>\n",
       "      <th>TravelAlone</th>\n",
       "    </tr>\n",
       "  </thead>\n",
       "  <tbody>\n",
       "    <tr>\n",
       "      <th>0</th>\n",
       "      <td>892</td>\n",
       "      <td>0</td>\n",
       "      <td>3</td>\n",
       "      <td>Kelly, Mr. James</td>\n",
       "      <td>male</td>\n",
       "      <td>34.50000</td>\n",
       "      <td>0</td>\n",
       "      <td>0</td>\n",
       "      <td>330911</td>\n",
       "      <td>7.8292</td>\n",
       "      <td>Q</td>\n",
       "      <td>1</td>\n",
       "    </tr>\n",
       "    <tr>\n",
       "      <th>1</th>\n",
       "      <td>893</td>\n",
       "      <td>1</td>\n",
       "      <td>3</td>\n",
       "      <td>Wilkes, Mrs. James (Ellen Needs)</td>\n",
       "      <td>female</td>\n",
       "      <td>47.00000</td>\n",
       "      <td>1</td>\n",
       "      <td>0</td>\n",
       "      <td>363272</td>\n",
       "      <td>7.0000</td>\n",
       "      <td>S</td>\n",
       "      <td>0</td>\n",
       "    </tr>\n",
       "    <tr>\n",
       "      <th>2</th>\n",
       "      <td>894</td>\n",
       "      <td>0</td>\n",
       "      <td>2</td>\n",
       "      <td>Myles, Mr. Thomas Francis</td>\n",
       "      <td>male</td>\n",
       "      <td>62.00000</td>\n",
       "      <td>0</td>\n",
       "      <td>0</td>\n",
       "      <td>240276</td>\n",
       "      <td>9.6875</td>\n",
       "      <td>Q</td>\n",
       "      <td>1</td>\n",
       "    </tr>\n",
       "    <tr>\n",
       "      <th>3</th>\n",
       "      <td>895</td>\n",
       "      <td>0</td>\n",
       "      <td>3</td>\n",
       "      <td>Wirz, Mr. Albert</td>\n",
       "      <td>male</td>\n",
       "      <td>27.00000</td>\n",
       "      <td>0</td>\n",
       "      <td>0</td>\n",
       "      <td>315154</td>\n",
       "      <td>8.6625</td>\n",
       "      <td>S</td>\n",
       "      <td>1</td>\n",
       "    </tr>\n",
       "    <tr>\n",
       "      <th>4</th>\n",
       "      <td>896</td>\n",
       "      <td>1</td>\n",
       "      <td>3</td>\n",
       "      <td>Hirvonen, Mrs. Alexander (Helga E Lindqvist)</td>\n",
       "      <td>female</td>\n",
       "      <td>22.00000</td>\n",
       "      <td>1</td>\n",
       "      <td>1</td>\n",
       "      <td>3101298</td>\n",
       "      <td>12.2875</td>\n",
       "      <td>S</td>\n",
       "      <td>0</td>\n",
       "    </tr>\n",
       "    <tr>\n",
       "      <th>...</th>\n",
       "      <td>...</td>\n",
       "      <td>...</td>\n",
       "      <td>...</td>\n",
       "      <td>...</td>\n",
       "      <td>...</td>\n",
       "      <td>...</td>\n",
       "      <td>...</td>\n",
       "      <td>...</td>\n",
       "      <td>...</td>\n",
       "      <td>...</td>\n",
       "      <td>...</td>\n",
       "      <td>...</td>\n",
       "    </tr>\n",
       "    <tr>\n",
       "      <th>413</th>\n",
       "      <td>1305</td>\n",
       "      <td>0</td>\n",
       "      <td>3</td>\n",
       "      <td>Spector, Mr. Woolf</td>\n",
       "      <td>male</td>\n",
       "      <td>30.27259</td>\n",
       "      <td>0</td>\n",
       "      <td>0</td>\n",
       "      <td>A.5. 3236</td>\n",
       "      <td>8.0500</td>\n",
       "      <td>S</td>\n",
       "      <td>1</td>\n",
       "    </tr>\n",
       "    <tr>\n",
       "      <th>414</th>\n",
       "      <td>1306</td>\n",
       "      <td>1</td>\n",
       "      <td>1</td>\n",
       "      <td>Oliva y Ocana, Dona. Fermina</td>\n",
       "      <td>female</td>\n",
       "      <td>39.00000</td>\n",
       "      <td>0</td>\n",
       "      <td>0</td>\n",
       "      <td>PC 17758</td>\n",
       "      <td>108.9000</td>\n",
       "      <td>C</td>\n",
       "      <td>1</td>\n",
       "    </tr>\n",
       "    <tr>\n",
       "      <th>415</th>\n",
       "      <td>1307</td>\n",
       "      <td>0</td>\n",
       "      <td>3</td>\n",
       "      <td>Saether, Mr. Simon Sivertsen</td>\n",
       "      <td>male</td>\n",
       "      <td>38.50000</td>\n",
       "      <td>0</td>\n",
       "      <td>0</td>\n",
       "      <td>SOTON/O.Q. 3101262</td>\n",
       "      <td>7.2500</td>\n",
       "      <td>S</td>\n",
       "      <td>1</td>\n",
       "    </tr>\n",
       "    <tr>\n",
       "      <th>416</th>\n",
       "      <td>1308</td>\n",
       "      <td>0</td>\n",
       "      <td>3</td>\n",
       "      <td>Ware, Mr. Frederick</td>\n",
       "      <td>male</td>\n",
       "      <td>30.27259</td>\n",
       "      <td>0</td>\n",
       "      <td>0</td>\n",
       "      <td>359309</td>\n",
       "      <td>8.0500</td>\n",
       "      <td>S</td>\n",
       "      <td>1</td>\n",
       "    </tr>\n",
       "    <tr>\n",
       "      <th>417</th>\n",
       "      <td>1309</td>\n",
       "      <td>0</td>\n",
       "      <td>3</td>\n",
       "      <td>Peter, Master. Michael J</td>\n",
       "      <td>male</td>\n",
       "      <td>30.27259</td>\n",
       "      <td>1</td>\n",
       "      <td>1</td>\n",
       "      <td>2668</td>\n",
       "      <td>22.3583</td>\n",
       "      <td>C</td>\n",
       "      <td>0</td>\n",
       "    </tr>\n",
       "  </tbody>\n",
       "</table>\n",
       "<p>418 rows × 12 columns</p>\n",
       "</div>"
      ],
      "text/plain": [
       "     PassengerId  Survived  Pclass  \\\n",
       "0            892         0       3   \n",
       "1            893         1       3   \n",
       "2            894         0       2   \n",
       "3            895         0       3   \n",
       "4            896         1       3   \n",
       "..           ...       ...     ...   \n",
       "413         1305         0       3   \n",
       "414         1306         1       1   \n",
       "415         1307         0       3   \n",
       "416         1308         0       3   \n",
       "417         1309         0       3   \n",
       "\n",
       "                                             Name     Sex       Age  SibSp  \\\n",
       "0                                Kelly, Mr. James    male  34.50000      0   \n",
       "1                Wilkes, Mrs. James (Ellen Needs)  female  47.00000      1   \n",
       "2                       Myles, Mr. Thomas Francis    male  62.00000      0   \n",
       "3                                Wirz, Mr. Albert    male  27.00000      0   \n",
       "4    Hirvonen, Mrs. Alexander (Helga E Lindqvist)  female  22.00000      1   \n",
       "..                                            ...     ...       ...    ...   \n",
       "413                            Spector, Mr. Woolf    male  30.27259      0   \n",
       "414                  Oliva y Ocana, Dona. Fermina  female  39.00000      0   \n",
       "415                  Saether, Mr. Simon Sivertsen    male  38.50000      0   \n",
       "416                           Ware, Mr. Frederick    male  30.27259      0   \n",
       "417                      Peter, Master. Michael J    male  30.27259      1   \n",
       "\n",
       "     Parch              Ticket      Fare Embarked  TravelAlone  \n",
       "0        0              330911    7.8292        Q            1  \n",
       "1        0              363272    7.0000        S            0  \n",
       "2        0              240276    9.6875        Q            1  \n",
       "3        0              315154    8.6625        S            1  \n",
       "4        1             3101298   12.2875        S            0  \n",
       "..     ...                 ...       ...      ...          ...  \n",
       "413      0           A.5. 3236    8.0500        S            1  \n",
       "414      0            PC 17758  108.9000        C            1  \n",
       "415      0  SOTON/O.Q. 3101262    7.2500        S            1  \n",
       "416      0              359309    8.0500        S            1  \n",
       "417      1                2668   22.3583        C            0  \n",
       "\n",
       "[418 rows x 12 columns]"
      ]
     },
     "execution_count": 13,
     "metadata": {},
     "output_type": "execute_result"
    }
   ],
   "source": [
    "from sklearn.preprocessing import LabelEncoder\n",
    "\n",
    "# 'SibSp' and 'Parch' are columns representing the number of siblings/spouses and parents/children aboard\n",
    "# Create a new column 'TravelAlone' based on the sum of 'SibSp' and 'Parch'\n",
    "df['TravelAlone'] = df['SibSp'] + df['Parch'] \n",
    "\n",
    "# Map the values to create a binary 'TravelAlone' column (1 if traveling alone, 0 if not)\n",
    "df['TravelAlone'] = df['TravelAlone'].map(lambda x: 1 if x == 0 else 0)\n",
    "\n",
    "# Apply label encoding to the 'TravelAlone' column\n",
    "label_encoder = LabelEncoder()\n",
    "df['TravelAlone'] = label_encoder.fit_transform(df['TravelAlone'])\n",
    "\n",
    "# Display the updated DataFrame\n",
    "df"
   ]
  },
  {
   "cell_type": "markdown",
   "metadata": {},
   "source": [
    "**Dropping the irrelevant columns**"
   ]
  },
  {
   "cell_type": "code",
   "execution_count": 14,
   "metadata": {},
   "outputs": [
    {
     "data": {
      "text/html": [
       "<div>\n",
       "<style scoped>\n",
       "    .dataframe tbody tr th:only-of-type {\n",
       "        vertical-align: middle;\n",
       "    }\n",
       "\n",
       "    .dataframe tbody tr th {\n",
       "        vertical-align: top;\n",
       "    }\n",
       "\n",
       "    .dataframe thead th {\n",
       "        text-align: right;\n",
       "    }\n",
       "</style>\n",
       "<table border=\"1\" class=\"dataframe\">\n",
       "  <thead>\n",
       "    <tr style=\"text-align: right;\">\n",
       "      <th></th>\n",
       "      <th>Survived</th>\n",
       "      <th>Pclass</th>\n",
       "      <th>Sex</th>\n",
       "      <th>Age</th>\n",
       "      <th>Fare</th>\n",
       "      <th>Embarked</th>\n",
       "      <th>TravelAlone</th>\n",
       "    </tr>\n",
       "  </thead>\n",
       "  <tbody>\n",
       "    <tr>\n",
       "      <th>0</th>\n",
       "      <td>0</td>\n",
       "      <td>3</td>\n",
       "      <td>male</td>\n",
       "      <td>34.5</td>\n",
       "      <td>7.8292</td>\n",
       "      <td>Q</td>\n",
       "      <td>1</td>\n",
       "    </tr>\n",
       "    <tr>\n",
       "      <th>1</th>\n",
       "      <td>1</td>\n",
       "      <td>3</td>\n",
       "      <td>female</td>\n",
       "      <td>47.0</td>\n",
       "      <td>7.0000</td>\n",
       "      <td>S</td>\n",
       "      <td>0</td>\n",
       "    </tr>\n",
       "    <tr>\n",
       "      <th>2</th>\n",
       "      <td>0</td>\n",
       "      <td>2</td>\n",
       "      <td>male</td>\n",
       "      <td>62.0</td>\n",
       "      <td>9.6875</td>\n",
       "      <td>Q</td>\n",
       "      <td>1</td>\n",
       "    </tr>\n",
       "    <tr>\n",
       "      <th>3</th>\n",
       "      <td>0</td>\n",
       "      <td>3</td>\n",
       "      <td>male</td>\n",
       "      <td>27.0</td>\n",
       "      <td>8.6625</td>\n",
       "      <td>S</td>\n",
       "      <td>1</td>\n",
       "    </tr>\n",
       "    <tr>\n",
       "      <th>4</th>\n",
       "      <td>1</td>\n",
       "      <td>3</td>\n",
       "      <td>female</td>\n",
       "      <td>22.0</td>\n",
       "      <td>12.2875</td>\n",
       "      <td>S</td>\n",
       "      <td>0</td>\n",
       "    </tr>\n",
       "  </tbody>\n",
       "</table>\n",
       "</div>"
      ],
      "text/plain": [
       "   Survived  Pclass     Sex   Age     Fare Embarked  TravelAlone\n",
       "0         0       3    male  34.5   7.8292        Q            1\n",
       "1         1       3  female  47.0   7.0000        S            0\n",
       "2         0       2    male  62.0   9.6875        Q            1\n",
       "3         0       3    male  27.0   8.6625        S            1\n",
       "4         1       3  female  22.0  12.2875        S            0"
      ]
     },
     "execution_count": 14,
     "metadata": {},
     "output_type": "execute_result"
    }
   ],
   "source": [
    "\n",
    "# In our data the Ticket and passengerID, Name, sibsp and parch are the base less,leds to the false prediction\n",
    "df.drop(['SibSp', 'Parch', 'PassengerId', 'Ticket', 'Name'], axis=1, inplace=True)\n",
    "\n",
    "# Display the updated DataFrame\n",
    "df.head()"
   ]
  },
  {
   "cell_type": "code",
   "execution_count": 15,
   "metadata": {
    "scrolled": true
   },
   "outputs": [
    {
     "name": "stdout",
     "output_type": "stream",
     "text": [
      "<class 'pandas.core.frame.DataFrame'>\n",
      "RangeIndex: 418 entries, 0 to 417\n",
      "Data columns (total 7 columns):\n",
      " #   Column       Non-Null Count  Dtype  \n",
      "---  ------       --------------  -----  \n",
      " 0   Survived     418 non-null    int64  \n",
      " 1   Pclass       418 non-null    int64  \n",
      " 2   Sex          418 non-null    object \n",
      " 3   Age          418 non-null    float64\n",
      " 4   Fare         418 non-null    float64\n",
      " 5   Embarked     418 non-null    object \n",
      " 6   TravelAlone  418 non-null    int64  \n",
      "dtypes: float64(2), int64(3), object(2)\n",
      "memory usage: 23.0+ KB\n"
     ]
    }
   ],
   "source": [
    "df.info()"
   ]
  },
  {
   "cell_type": "markdown",
   "metadata": {},
   "source": [
    "## `Exploration Data Analysis`\n",
    "\n",
    "This section will be the exploratory data analysis question where we will exploring and seeing the relationship the different columns\n",
    "\n",
    "The main two parts in this section are:\n",
    "\n",
    "-`Categorical Columns`\n",
    "\n",
    "-`Numerical Columns`"
   ]
  },
  {
   "cell_type": "markdown",
   "metadata": {},
   "source": [
    "Categorical Columns\n",
    "\n",
    "The Categorical Columns in the dataset that we shall be analysing are:\n",
    "\n",
    "-`sex` \n",
    "\n",
    "-`Embarked`\n",
    "\n",
    "Numerical Columns\n",
    "\n",
    "The Numerical Columns in the dataset that we shall be analysing are:\n",
    "\n",
    "-`Survived`\n",
    "\n",
    "-`Pclass`\n",
    "\n",
    "-`Age`\n",
    "\n",
    "-`Fare`\n",
    "\n",
    "-`TravelAlone`"
   ]
  },
  {
   "cell_type": "code",
   "execution_count": 16,
   "metadata": {},
   "outputs": [
    {
     "data": {
      "text/html": [
       "<div>\n",
       "<style scoped>\n",
       "    .dataframe tbody tr th:only-of-type {\n",
       "        vertical-align: middle;\n",
       "    }\n",
       "\n",
       "    .dataframe tbody tr th {\n",
       "        vertical-align: top;\n",
       "    }\n",
       "\n",
       "    .dataframe thead th {\n",
       "        text-align: right;\n",
       "    }\n",
       "</style>\n",
       "<table border=\"1\" class=\"dataframe\">\n",
       "  <thead>\n",
       "    <tr style=\"text-align: right;\">\n",
       "      <th></th>\n",
       "      <th>Survived</th>\n",
       "      <th>Pclass</th>\n",
       "      <th>Age</th>\n",
       "      <th>Fare</th>\n",
       "      <th>TravelAlone</th>\n",
       "    </tr>\n",
       "  </thead>\n",
       "  <tbody>\n",
       "    <tr>\n",
       "      <th>count</th>\n",
       "      <td>418.00</td>\n",
       "      <td>418.00</td>\n",
       "      <td>418.00</td>\n",
       "      <td>418.00</td>\n",
       "      <td>418.00</td>\n",
       "    </tr>\n",
       "    <tr>\n",
       "      <th>mean</th>\n",
       "      <td>0.36</td>\n",
       "      <td>2.27</td>\n",
       "      <td>30.27</td>\n",
       "      <td>35.63</td>\n",
       "      <td>0.61</td>\n",
       "    </tr>\n",
       "    <tr>\n",
       "      <th>std</th>\n",
       "      <td>0.48</td>\n",
       "      <td>0.84</td>\n",
       "      <td>12.63</td>\n",
       "      <td>55.84</td>\n",
       "      <td>0.49</td>\n",
       "    </tr>\n",
       "    <tr>\n",
       "      <th>min</th>\n",
       "      <td>0.00</td>\n",
       "      <td>1.00</td>\n",
       "      <td>0.17</td>\n",
       "      <td>0.00</td>\n",
       "      <td>0.00</td>\n",
       "    </tr>\n",
       "    <tr>\n",
       "      <th>25%</th>\n",
       "      <td>0.00</td>\n",
       "      <td>1.00</td>\n",
       "      <td>23.00</td>\n",
       "      <td>7.90</td>\n",
       "      <td>0.00</td>\n",
       "    </tr>\n",
       "    <tr>\n",
       "      <th>50%</th>\n",
       "      <td>0.00</td>\n",
       "      <td>3.00</td>\n",
       "      <td>30.27</td>\n",
       "      <td>14.45</td>\n",
       "      <td>1.00</td>\n",
       "    </tr>\n",
       "    <tr>\n",
       "      <th>75%</th>\n",
       "      <td>1.00</td>\n",
       "      <td>3.00</td>\n",
       "      <td>35.75</td>\n",
       "      <td>31.50</td>\n",
       "      <td>1.00</td>\n",
       "    </tr>\n",
       "    <tr>\n",
       "      <th>max</th>\n",
       "      <td>1.00</td>\n",
       "      <td>3.00</td>\n",
       "      <td>76.00</td>\n",
       "      <td>512.33</td>\n",
       "      <td>1.00</td>\n",
       "    </tr>\n",
       "  </tbody>\n",
       "</table>\n",
       "</div>"
      ],
      "text/plain": [
       "       Survived  Pclass     Age    Fare  TravelAlone\n",
       "count    418.00  418.00  418.00  418.00       418.00\n",
       "mean       0.36    2.27   30.27   35.63         0.61\n",
       "std        0.48    0.84   12.63   55.84         0.49\n",
       "min        0.00    1.00    0.17    0.00         0.00\n",
       "25%        0.00    1.00   23.00    7.90         0.00\n",
       "50%        0.00    3.00   30.27   14.45         1.00\n",
       "75%        1.00    3.00   35.75   31.50         1.00\n",
       "max        1.00    3.00   76.00  512.33         1.00"
      ]
     },
     "execution_count": 16,
     "metadata": {},
     "output_type": "execute_result"
    }
   ],
   "source": [
    "# general statistical summary\n",
    "df.describe().round(2)"
   ]
  },
  {
   "cell_type": "code",
   "execution_count": 17,
   "metadata": {},
   "outputs": [],
   "source": [
    "# Separate numerical and categorical columns\n",
    "numerical_cols = df.select_dtypes(include=['int64', 'float64']).columns\n",
    "categorical_cols = df.select_dtypes(include=['object']).columns"
   ]
  },
  {
   "cell_type": "markdown",
   "metadata": {},
   "source": [
    "### `Univariate Analysis`\n",
    "\n",
    "we'll explore each column in the dataset to see the distributions of features and obtain some useful insights."
   ]
  },
  {
   "cell_type": "code",
   "execution_count": 18,
   "metadata": {},
   "outputs": [
    {
     "data": {
      "image/png": "[encoded data removed]",
      "text/plain": [
       "<Figure size 576x360 with 1 Axes>"
      ]
     },
     "metadata": {
      "needs_background": "light"
     },
     "output_type": "display_data"
    },
    {
     "data": {
      "image/png": "[encoded data removed]",
      "text/plain": [
       "<Figure size 576x360 with 1 Axes>"
      ]
     },
     "metadata": {
      "needs_background": "light"
     },
     "output_type": "display_data"
    },
    {
     "data": {
      "image/png": "[encoded data removed]",
      "text/plain": [
       "<Figure size 576x360 with 1 Axes>"
      ]
     },
     "metadata": {
      "needs_background": "light"
     },
     "output_type": "display_data"
    },
    {
     "data": {
      "image/png": "[encoded data removed]",
      "text/plain": [
       "<Figure size 576x360 with 1 Axes>"
      ]
     },
     "metadata": {
      "needs_background": "light"
     },
     "output_type": "display_data"
    },
    {
     "data": {
      "image/png": "[encoded data removed]",
      "text/plain": [
       "<Figure size 576x360 with 1 Axes>"
      ]
     },
     "metadata": {
      "needs_background": "light"
     },
     "output_type": "display_data"
    },
    {
     "data": {
      "image/png": "[encoded data removed]",
      "text/plain": [
       "<Figure size 576x360 with 1 Axes>"
      ]
     },
     "metadata": {
      "needs_background": "light"
     },
     "output_type": "display_data"
    },
    {
     "data": {
      "image/png": "[encoded data removed]",
      "text/plain": [
       "<Figure size 576x360 with 1 Axes>"
      ]
     },
     "metadata": {
      "needs_background": "light"
     },
     "output_type": "display_data"
    }
   ],
   "source": [
    "def univariate_analysis(dataframe):\n",
    "    # Separate numerical and categorical columns\n",
    "    numerical_cols = dataframe.select_dtypes(include=['int64', 'float64']).columns\n",
    "    categorical_cols = dataframe.select_dtypes(include=['object']).columns\n",
    "\n",
    "    # Univariate analysis for numerical variables\n",
    "    for col in numerical_cols:\n",
    "        plt.figure(figsize=(8, 5))\n",
    "        sns.histplot(dataframe[col], kde=True)\n",
    "        plt.title(f'Distribution of {col}')\n",
    "        plt.show()\n",
    "\n",
    "    # Univariate analysis for categorical variables\n",
    "    for col in categorical_cols:\n",
    "        plt.figure(figsize=(8, 5))\n",
    "        sns.countplot(x=dataframe[col])\n",
    "        plt.title(f'Count of each category in {col}')\n",
    "        plt.show()\n",
    "\n",
    "# Example usage with your DataFrame 'df'\n",
    "univariate_analysis(df)"
   ]
  },
  {
   "cell_type": "markdown",
   "metadata": {},
   "source": [
    "`Survived:`\n",
    "\n",
    "**Conclusion:** The dataset is imbalanced, with a larger representation of non-survivors (0) compared to survivors (1).\n",
    "\n",
    "`Pclass:`\n",
    "\n",
    "**Conclusion:** The dataset has a higher proportion of passengers in the third class (Pclass=3), indicating a predominantly lower-class population.\n",
    "\n",
    "`Age:`\n",
    "\n",
    "**Conclusion:** The age distribution is diverse, with a concentration of passengers in the young adult age range.\n",
    "\n",
    "`Fare:`\n",
    "\n",
    "**Conclusion:** The majority of passengers paid lower fares, but there is a long tail suggesting some passengers paid significantly higher fares.\n",
    "\n",
    "`Sex:`\n",
    "\n",
    "**Conclusion:** The dataset is predominantly composed of male passengers.\n",
    "\n",
    "`Embarked:`\n",
    "\n",
    "**Conclusion:** The majority of passengers boarded the Titanic from Southampton (S), with Cherbourg (C) as the second most common embarkation port.\n",
    "\n",
    "`TravelAlone:`\n",
    "\n",
    "**Conclusion:** More passengers traveled with companions (TravelAlone=0) than those who traveled alone (TravelAlone=1)."
   ]
  },
  {
   "cell_type": "code",
   "execution_count": 19,
   "metadata": {},
   "outputs": [],
   "source": [
    "# apply log transformation to fare column to reduce skweness \n",
    "df['Fare'] = df['Fare'].map(lambda x: np.log(x) if x > 0 else 0)"
   ]
  },
  {
   "cell_type": "markdown",
   "metadata": {},
   "source": [
    "### `Bivariate Analysis`"
   ]
  },
  {
   "cell_type": "markdown",
   "metadata": {},
   "source": [
    "**Does Ticket Class (Pclass) influence Survival?**"
   ]
  },
  {
   "cell_type": "code",
   "execution_count": 20,
   "metadata": {},
   "outputs": [
    {
     "data": {
      "text/plain": [
       "<AxesSubplot:xlabel='Pclass', ylabel='count'>"
      ]
     },
     "execution_count": 20,
     "metadata": {},
     "output_type": "execute_result"
    },
    {
     "data": {
      "image/png": "[encoded data removed]",
      "text/plain": [
       "<Figure size 432x288 with 1 Axes>"
      ]
     },
     "metadata": {
      "needs_background": "light"
     },
     "output_type": "display_data"
    }
   ],
   "source": [
    "sns.countplot(x='Pclass', hue='Survived', data=df)\n"
   ]
  },
  {
   "cell_type": "markdown",
   "metadata": {},
   "source": [
    "**Conclusion**: Pclass appears to be correlated with survival, with a higher proportion of survivors in the 1st class and a lower proportion in the 3rd class."
   ]
  },
  {
   "cell_type": "markdown",
   "metadata": {},
   "source": [
    "**Is there a relationship between Gender (Sex) and Survival?**"
   ]
  },
  {
   "cell_type": "code",
   "execution_count": 21,
   "metadata": {
    "scrolled": true
   },
   "outputs": [
    {
     "data": {
      "text/plain": [
       "<AxesSubplot:xlabel='Sex', ylabel='count'>"
      ]
     },
     "execution_count": 21,
     "metadata": {},
     "output_type": "execute_result"
    },
    {
     "data": {
      "image/png": "[encoded data removed]",
      "text/plain": [
       "<Figure size 432x288 with 1 Axes>"
      ]
     },
     "metadata": {
      "needs_background": "light"
     },
     "output_type": "display_data"
    }
   ],
   "source": [
    "sns.countplot(x='Sex', hue='Survived', data=df)"
   ]
  },
  {
   "cell_type": "markdown",
   "metadata": {},
   "source": [
    "**Conclusion**: higher proportion of male passengers survived compared to female passengers. The count plot is reflecting that more males survived, and it suggests that factors other than gender might have played a more significant role in the survival outcomes."
   ]
  },
  {
   "cell_type": "markdown",
   "metadata": {},
   "source": [
    "**How does Age impact the likelihood of Survival?**"
   ]
  },
  {
   "cell_type": "code",
   "execution_count": 22,
   "metadata": {
    "scrolled": true
   },
   "outputs": [
    {
     "data": {
      "text/html": [
       "<div>\n",
       "<style scoped>\n",
       "    .dataframe tbody tr th:only-of-type {\n",
       "        vertical-align: middle;\n",
       "    }\n",
       "\n",
       "    .dataframe tbody tr th {\n",
       "        vertical-align: top;\n",
       "    }\n",
       "\n",
       "    .dataframe thead th {\n",
       "        text-align: right;\n",
       "    }\n",
       "</style>\n",
       "<table border=\"1\" class=\"dataframe\">\n",
       "  <thead>\n",
       "    <tr style=\"text-align: right;\">\n",
       "      <th></th>\n",
       "      <th>Survived</th>\n",
       "      <th>Pclass</th>\n",
       "      <th>Sex</th>\n",
       "      <th>Age</th>\n",
       "      <th>Fare</th>\n",
       "      <th>Embarked</th>\n",
       "      <th>TravelAlone</th>\n",
       "      <th>AgeBracket</th>\n",
       "    </tr>\n",
       "  </thead>\n",
       "  <tbody>\n",
       "    <tr>\n",
       "      <th>0</th>\n",
       "      <td>0</td>\n",
       "      <td>3</td>\n",
       "      <td>male</td>\n",
       "      <td>34.5</td>\n",
       "      <td>2.057860</td>\n",
       "      <td>Q</td>\n",
       "      <td>1</td>\n",
       "      <td>25-35 years old</td>\n",
       "    </tr>\n",
       "    <tr>\n",
       "      <th>1</th>\n",
       "      <td>1</td>\n",
       "      <td>3</td>\n",
       "      <td>female</td>\n",
       "      <td>47.0</td>\n",
       "      <td>1.945910</td>\n",
       "      <td>S</td>\n",
       "      <td>0</td>\n",
       "      <td>45-65 years old</td>\n",
       "    </tr>\n",
       "    <tr>\n",
       "      <th>2</th>\n",
       "      <td>0</td>\n",
       "      <td>2</td>\n",
       "      <td>male</td>\n",
       "      <td>62.0</td>\n",
       "      <td>2.270836</td>\n",
       "      <td>Q</td>\n",
       "      <td>1</td>\n",
       "      <td>45-65 years old</td>\n",
       "    </tr>\n",
       "    <tr>\n",
       "      <th>3</th>\n",
       "      <td>0</td>\n",
       "      <td>3</td>\n",
       "      <td>male</td>\n",
       "      <td>27.0</td>\n",
       "      <td>2.159003</td>\n",
       "      <td>S</td>\n",
       "      <td>1</td>\n",
       "      <td>25-35 years old</td>\n",
       "    </tr>\n",
       "    <tr>\n",
       "      <th>4</th>\n",
       "      <td>1</td>\n",
       "      <td>3</td>\n",
       "      <td>female</td>\n",
       "      <td>22.0</td>\n",
       "      <td>2.508582</td>\n",
       "      <td>S</td>\n",
       "      <td>0</td>\n",
       "      <td>18-25 years old</td>\n",
       "    </tr>\n",
       "  </tbody>\n",
       "</table>\n",
       "</div>"
      ],
      "text/plain": [
       "   Survived  Pclass     Sex   Age      Fare Embarked  TravelAlone  \\\n",
       "0         0       3    male  34.5  2.057860        Q            1   \n",
       "1         1       3  female  47.0  1.945910        S            0   \n",
       "2         0       2    male  62.0  2.270836        Q            1   \n",
       "3         0       3    male  27.0  2.159003        S            1   \n",
       "4         1       3  female  22.0  2.508582        S            0   \n",
       "\n",
       "        AgeBracket  \n",
       "0  25-35 years old  \n",
       "1  45-65 years old  \n",
       "2  45-65 years old  \n",
       "3  25-35 years old  \n",
       "4  18-25 years old  "
      ]
     },
     "execution_count": 22,
     "metadata": {},
     "output_type": "execute_result"
    }
   ],
   "source": [
    "#Create a new colmn age bracket\n",
    "# Define age bins and labels\n",
    "age_bins = [0, 12, 18, 25, 35, 45, 65, float('inf')]\n",
    "age_labels = ['0-12 years old', '12-18 years old', '18-25 years old', '25-35 years old', '35-45 years old', '45-65 years old', '65+ years old']\n",
    "\n",
    "# Create the 'AgeBracket' column\n",
    "df['AgeBracket'] = pd.cut(df['Age'], bins=age_bins, labels=age_labels, right=False)\n",
    "\n",
    "# Display the updated DataFrame\n",
    "df.head()\n"
   ]
  },
  {
   "cell_type": "code",
   "execution_count": 23,
   "metadata": {},
   "outputs": [
    {
     "data": {
      "image/png": "[encoded data removed]",
      "text/plain": [
       "<Figure size 864x432 with 1 Axes>"
      ]
     },
     "metadata": {},
     "output_type": "display_data"
    }
   ],
   "source": [
    "# Set the style for the plot\n",
    "sns.set(style=\"whitegrid\")\n",
    "\n",
    "# Create a countplot\n",
    "plt.figure(figsize=(12, 6))\n",
    "sns.countplot(x='AgeBracket', hue='Survived', data=df, palette='viridis')\n",
    "\n",
    "# Set the title and labels\n",
    "plt.title('Distribution of Survivors by Age Bracket', fontsize=16)\n",
    "plt.xlabel('Age Bracket', fontsize=14)\n",
    "plt.ylabel('Count', fontsize=14)\n",
    "\n",
    "# Show the plot\n",
    "plt.show()"
   ]
  },
  {
   "cell_type": "markdown",
   "metadata": {},
   "source": [
    "**Conclusion**: age played a role in survival, with a higher likelihood for children (0-12 years old) and a lower likelihood for seniors (65+ years old). The distribution for middle-aged passengers (45-65 years old) also leans towards a higher count of non-survivors."
   ]
  },
  {
   "cell_type": "markdown",
   "metadata": {},
   "source": [
    "**Do Fare and Survival show any correlation?**"
   ]
  },
  {
   "cell_type": "code",
   "execution_count": 24,
   "metadata": {},
   "outputs": [
    {
     "data": {
      "text/plain": [
       "<AxesSubplot:xlabel='Survived', ylabel='Fare'>"
      ]
     },
     "execution_count": 24,
     "metadata": {},
     "output_type": "execute_result"
    },
    {
     "data": {
      "image/png": "[encoded data removed]",
      "text/plain": [
       "<Figure size 432x288 with 1 Axes>"
      ]
     },
     "metadata": {},
     "output_type": "display_data"
    }
   ],
   "source": [
    "sns.boxplot(x='Survived', y='Fare', data=df)\n"
   ]
  },
  {
   "cell_type": "markdown",
   "metadata": {},
   "source": [
    "**Conclusion**: there appears to be a correlation between fare and survival, with survivors generally associated with higher fares."
   ]
  },
  {
   "cell_type": "markdown",
   "metadata": {},
   "source": [
    "**Does the Port of Embarkation (Embarked) influence Survival?**"
   ]
  },
  {
   "cell_type": "code",
   "execution_count": 25,
   "metadata": {},
   "outputs": [
    {
     "data": {
      "text/plain": [
       "<AxesSubplot:xlabel='Embarked', ylabel='count'>"
      ]
     },
     "execution_count": 25,
     "metadata": {},
     "output_type": "execute_result"
    },
    {
     "data": {
      "image/png": "[encoded data removed]",
      "text/plain": [
       "<Figure size 432x288 with 1 Axes>"
      ]
     },
     "metadata": {},
     "output_type": "display_data"
    }
   ],
   "source": [
    "sns.countplot(x='Embarked', hue='Survived', data=df)\n"
   ]
  },
  {
   "cell_type": "markdown",
   "metadata": {},
   "source": [
    "**Conclusion**: survival outcomes seem to vary based on the port of embarkation, with passengers from Southampton having both higher survival and non-survival counts."
   ]
  },
  {
   "cell_type": "markdown",
   "metadata": {},
   "source": [
    "### `Multivariate Analysis`\n",
    "\n",
    "Our aim here is to look for the relationship between different features\n",
    "\n"
   ]
  },
  {
   "cell_type": "markdown",
   "metadata": {},
   "source": [
    "**How does the fare vary for different combinations of class and survival status?**"
   ]
  },
  {
   "cell_type": "code",
   "execution_count": 26,
   "metadata": {},
   "outputs": [
    {
     "data": {
      "image/png": "[encoded data removed]",
      "text/plain": [
       "<Figure size 864x576 with 1 Axes>"
      ]
     },
     "metadata": {},
     "output_type": "display_data"
    }
   ],
   "source": [
    "# Set the style for the plot\n",
    "sns.set(style=\"whitegrid\")\n",
    "\n",
    "# Create a boxplot\n",
    "plt.figure(figsize=(12, 8))\n",
    "sns.boxplot(x='Pclass', y='Fare', hue='Survived', data=df, palette='coolwarm')\n",
    "\n",
    "# Set the title and labels\n",
    "plt.title('Variation of Fare for Different Class-Survival Combinations', fontsize=16)\n",
    "plt.xlabel('Ticket Class', fontsize=14)\n",
    "plt.ylabel('Fare', fontsize=14)\n",
    "\n",
    "# Show the plot\n",
    "plt.show()\n",
    "\n"
   ]
  },
  {
   "cell_type": "markdown",
   "metadata": {},
   "source": [
    "**Conclusion**: Fare appears to be a significant factor in predicting survival, with a higher likelihood of survival associated with higher fare payments, especially in the 1st class. "
   ]
  },
  {
   "cell_type": "markdown",
   "metadata": {},
   "source": [
    "**How does the combination of Age and Ticket Class impact survival outcomes?**"
   ]
  },
  {
   "cell_type": "code",
   "execution_count": 27,
   "metadata": {},
   "outputs": [
    {
     "data": {
      "image/png": "[encoded data removed]",
      "text/plain": [
       "<Figure size 864x432 with 1 Axes>"
      ]
     },
     "metadata": {},
     "output_type": "display_data"
    }
   ],
   "source": [
    "# Set the style for the plot\n",
    "sns.set(style=\"whitegrid\")\n",
    "\n",
    "# Create a violinplot\n",
    "plt.figure(figsize=(12, 6))\n",
    "sns.violinplot(x='Pclass', y='Age', hue='Survived', data=df, palette='Set2', split=True)\n",
    "\n",
    "# Set the title and labels\n",
    "plt.title('Impact of Age and Ticket Class on Survival', fontsize=16)\n",
    "plt.xlabel('Ticket Class', fontsize=14)\n",
    "plt.ylabel('Age', fontsize=14)\n",
    "\n",
    "# Show the plot\n",
    "plt.show()\n"
   ]
  },
  {
   "cell_type": "markdown",
   "metadata": {},
   "source": [
    "**Conclusion**: Age and ticket class appear to have varied impacts on survival outcomes. In the 1st and 2nd classes, the age distributions of survivors and non-survivors overlap, suggesting that age alone may not be a decisive factor in survival for these classes.\n",
    "\n",
    "In the 3rd class, the age distribution of survivors suggests a higher likelihood of survival for younger passengers. This aligns with the historical narrative that during the Titanic disaster, priority was given to certain groups, including women and children."
   ]
  },
  {
   "cell_type": "markdown",
   "metadata": {},
   "source": [
    "**Label encoding catergorical column**"
   ]
  },
  {
   "cell_type": "markdown",
   "metadata": {},
   "source": [
    " `Sex` and `Embarked` are categorical and need encoding, encoding is essential to convert categorical data into a numeric format, meeting the input requirements of machine learning models for predicting passenger survival."
   ]
  },
  {
   "cell_type": "code",
   "execution_count": 28,
   "metadata": {},
   "outputs": [
    {
     "data": {
      "text/html": [
       "<div>\n",
       "<style scoped>\n",
       "    .dataframe tbody tr th:only-of-type {\n",
       "        vertical-align: middle;\n",
       "    }\n",
       "\n",
       "    .dataframe tbody tr th {\n",
       "        vertical-align: top;\n",
       "    }\n",
       "\n",
       "    .dataframe thead th {\n",
       "        text-align: right;\n",
       "    }\n",
       "</style>\n",
       "<table border=\"1\" class=\"dataframe\">\n",
       "  <thead>\n",
       "    <tr style=\"text-align: right;\">\n",
       "      <th></th>\n",
       "      <th>Survived</th>\n",
       "      <th>Pclass</th>\n",
       "      <th>Sex</th>\n",
       "      <th>Age</th>\n",
       "      <th>Fare</th>\n",
       "      <th>Embarked</th>\n",
       "      <th>TravelAlone</th>\n",
       "      <th>AgeBracket</th>\n",
       "    </tr>\n",
       "  </thead>\n",
       "  <tbody>\n",
       "    <tr>\n",
       "      <th>0</th>\n",
       "      <td>0</td>\n",
       "      <td>3</td>\n",
       "      <td>1</td>\n",
       "      <td>34.5</td>\n",
       "      <td>2.057860</td>\n",
       "      <td>1</td>\n",
       "      <td>1</td>\n",
       "      <td>25-35 years old</td>\n",
       "    </tr>\n",
       "    <tr>\n",
       "      <th>1</th>\n",
       "      <td>1</td>\n",
       "      <td>3</td>\n",
       "      <td>0</td>\n",
       "      <td>47.0</td>\n",
       "      <td>1.945910</td>\n",
       "      <td>2</td>\n",
       "      <td>0</td>\n",
       "      <td>45-65 years old</td>\n",
       "    </tr>\n",
       "    <tr>\n",
       "      <th>2</th>\n",
       "      <td>0</td>\n",
       "      <td>2</td>\n",
       "      <td>1</td>\n",
       "      <td>62.0</td>\n",
       "      <td>2.270836</td>\n",
       "      <td>1</td>\n",
       "      <td>1</td>\n",
       "      <td>45-65 years old</td>\n",
       "    </tr>\n",
       "    <tr>\n",
       "      <th>3</th>\n",
       "      <td>0</td>\n",
       "      <td>3</td>\n",
       "      <td>1</td>\n",
       "      <td>27.0</td>\n",
       "      <td>2.159003</td>\n",
       "      <td>2</td>\n",
       "      <td>1</td>\n",
       "      <td>25-35 years old</td>\n",
       "    </tr>\n",
       "    <tr>\n",
       "      <th>4</th>\n",
       "      <td>1</td>\n",
       "      <td>3</td>\n",
       "      <td>0</td>\n",
       "      <td>22.0</td>\n",
       "      <td>2.508582</td>\n",
       "      <td>2</td>\n",
       "      <td>0</td>\n",
       "      <td>18-25 years old</td>\n",
       "    </tr>\n",
       "  </tbody>\n",
       "</table>\n",
       "</div>"
      ],
      "text/plain": [
       "   Survived  Pclass  Sex   Age      Fare  Embarked  TravelAlone  \\\n",
       "0         0       3    1  34.5  2.057860         1            1   \n",
       "1         1       3    0  47.0  1.945910         2            0   \n",
       "2         0       2    1  62.0  2.270836         1            1   \n",
       "3         0       3    1  27.0  2.159003         2            1   \n",
       "4         1       3    0  22.0  2.508582         2            0   \n",
       "\n",
       "        AgeBracket  \n",
       "0  25-35 years old  \n",
       "1  45-65 years old  \n",
       "2  45-65 years old  \n",
       "3  25-35 years old  \n",
       "4  18-25 years old  "
      ]
     },
     "execution_count": 28,
     "metadata": {},
     "output_type": "execute_result"
    }
   ],
   "source": [
    "def label_encode_columns(dataframe, columns):\n",
    "    label_encoder = LabelEncoder()\n",
    "    for column in columns:\n",
    "        dataframe[column] = label_encoder.fit_transform(dataframe[column])\n",
    "    return dataframe\n",
    "\n",
    "# Example usage for 'Sex' and 'Embarked' columns\n",
    "columns_to_label_encode = ['Sex', 'Embarked']\n",
    "df = label_encode_columns(df, columns_to_label_encode)\n",
    "\n",
    "# Display the updated DataFrame\n",
    "df.head()"
   ]
  },
  {
   "cell_type": "markdown",
   "metadata": {},
   "source": [
    "`Sex` Column:\n",
    "'female' is encoded as 0.\n",
    "'male' is encoded as 1.\n",
    "\n",
    "`Embarked` Column:\n",
    "'Q' is encoded as 1.\n",
    "'S' is encoded as 2.\n",
    "'C' is encoded as 0."
   ]
  },
  {
   "cell_type": "markdown",
   "metadata": {},
   "source": [
    "**Checking for correlation**"
   ]
  },
  {
   "cell_type": "code",
   "execution_count": 29,
   "metadata": {},
   "outputs": [
    {
     "data": {
      "text/html": [
       "<div>\n",
       "<style scoped>\n",
       "    .dataframe tbody tr th:only-of-type {\n",
       "        vertical-align: middle;\n",
       "    }\n",
       "\n",
       "    .dataframe tbody tr th {\n",
       "        vertical-align: top;\n",
       "    }\n",
       "\n",
       "    .dataframe thead th {\n",
       "        text-align: right;\n",
       "    }\n",
       "</style>\n",
       "<table border=\"1\" class=\"dataframe\">\n",
       "  <thead>\n",
       "    <tr style=\"text-align: right;\">\n",
       "      <th></th>\n",
       "      <th>Survived</th>\n",
       "      <th>Pclass</th>\n",
       "      <th>Sex</th>\n",
       "      <th>Age</th>\n",
       "      <th>Fare</th>\n",
       "      <th>Embarked</th>\n",
       "      <th>TravelAlone</th>\n",
       "    </tr>\n",
       "  </thead>\n",
       "  <tbody>\n",
       "    <tr>\n",
       "      <th>Survived</th>\n",
       "      <td>1.000000</td>\n",
       "      <td>-0.108615</td>\n",
       "      <td>-1.000000</td>\n",
       "      <td>-0.000011</td>\n",
       "      <td>0.221009</td>\n",
       "      <td>-0.076281</td>\n",
       "      <td>-0.244187</td>\n",
       "    </tr>\n",
       "    <tr>\n",
       "      <th>Pclass</th>\n",
       "      <td>-0.108615</td>\n",
       "      <td>1.000000</td>\n",
       "      <td>0.108615</td>\n",
       "      <td>-0.440782</td>\n",
       "      <td>-0.742072</td>\n",
       "      <td>0.227983</td>\n",
       "      <td>0.173555</td>\n",
       "    </tr>\n",
       "    <tr>\n",
       "      <th>Sex</th>\n",
       "      <td>-1.000000</td>\n",
       "      <td>0.108615</td>\n",
       "      <td>1.000000</td>\n",
       "      <td>0.000011</td>\n",
       "      <td>-0.221009</td>\n",
       "      <td>0.076281</td>\n",
       "      <td>0.244187</td>\n",
       "    </tr>\n",
       "    <tr>\n",
       "      <th>Age</th>\n",
       "      <td>-0.000011</td>\n",
       "      <td>-0.440782</td>\n",
       "      <td>0.000011</td>\n",
       "      <td>1.000000</td>\n",
       "      <td>0.330525</td>\n",
       "      <td>-0.157996</td>\n",
       "      <td>-0.021604</td>\n",
       "    </tr>\n",
       "    <tr>\n",
       "      <th>Fare</th>\n",
       "      <td>0.221009</td>\n",
       "      <td>-0.742072</td>\n",
       "      <td>-0.221009</td>\n",
       "      <td>0.330525</td>\n",
       "      <td>1.000000</td>\n",
       "      <td>-0.223056</td>\n",
       "      <td>-0.454958</td>\n",
       "    </tr>\n",
       "    <tr>\n",
       "      <th>Embarked</th>\n",
       "      <td>-0.076281</td>\n",
       "      <td>0.227983</td>\n",
       "      <td>0.076281</td>\n",
       "      <td>-0.157996</td>\n",
       "      <td>-0.223056</td>\n",
       "      <td>1.000000</td>\n",
       "      <td>0.059158</td>\n",
       "    </tr>\n",
       "    <tr>\n",
       "      <th>TravelAlone</th>\n",
       "      <td>-0.244187</td>\n",
       "      <td>0.173555</td>\n",
       "      <td>0.244187</td>\n",
       "      <td>-0.021604</td>\n",
       "      <td>-0.454958</td>\n",
       "      <td>0.059158</td>\n",
       "      <td>1.000000</td>\n",
       "    </tr>\n",
       "  </tbody>\n",
       "</table>\n",
       "</div>"
      ],
      "text/plain": [
       "             Survived    Pclass       Sex       Age      Fare  Embarked  \\\n",
       "Survived     1.000000 -0.108615 -1.000000 -0.000011  0.221009 -0.076281   \n",
       "Pclass      -0.108615  1.000000  0.108615 -0.440782 -0.742072  0.227983   \n",
       "Sex         -1.000000  0.108615  1.000000  0.000011 -0.221009  0.076281   \n",
       "Age         -0.000011 -0.440782  0.000011  1.000000  0.330525 -0.157996   \n",
       "Fare         0.221009 -0.742072 -0.221009  0.330525  1.000000 -0.223056   \n",
       "Embarked    -0.076281  0.227983  0.076281 -0.157996 -0.223056  1.000000   \n",
       "TravelAlone -0.244187  0.173555  0.244187 -0.021604 -0.454958  0.059158   \n",
       "\n",
       "             TravelAlone  \n",
       "Survived       -0.244187  \n",
       "Pclass          0.173555  \n",
       "Sex             0.244187  \n",
       "Age            -0.021604  \n",
       "Fare           -0.454958  \n",
       "Embarked        0.059158  \n",
       "TravelAlone     1.000000  "
      ]
     },
     "execution_count": 29,
     "metadata": {},
     "output_type": "execute_result"
    }
   ],
   "source": [
    "df.corr()"
   ]
  },
  {
   "cell_type": "code",
   "execution_count": 30,
   "metadata": {},
   "outputs": [
    {
     "data": {
      "image/png": "[encoded data removed]",
      "text/plain": [
       "<Figure size 720x720 with 2 Axes>"
      ]
     },
     "metadata": {},
     "output_type": "display_data"
    }
   ],
   "source": [
    "# Heat map for the survived data correlation coeficients\n",
    "plt.figure(figsize=(10, 10))\n",
    "plt.title('Correlation heatmap')\n",
    "corr=df.corr()\n",
    "mask=np.triu(corr)\n",
    "sns.heatmap(corr,cmap='crest',mask=mask)\n",
    "plt.show()"
   ]
  },
  {
   "cell_type": "markdown",
   "metadata": {},
   "source": [
    "**Conclusion**:\n",
    "\n",
    "`Sex` (Survived vs. Sex):\n",
    "\n",
    "Strong negative correlation (-1.00) between \"Survived\" and \"Sex,\" indicating that being female (Sex=0) is associated with higher survival (Survived=1).\n",
    "\n",
    "`Pclass` (Survived vs. Pclass):\n",
    "\n",
    "Negative correlation (-0.11) between \"Survived\" and \"Pclass,\" indicating that having a higher ticket class is associated with higher survival.\n",
    "\n",
    "`TravelAlone` (Survived vs. TravelAlone):\n",
    "\n",
    "Negative correlation (-0.24) between \"Survived\" and \"TravelAlone,\" indicating that traveling alone is associated with lower survival.\n",
    "\n",
    "`Fare` (Survived vs. Fare):\n",
    "\n",
    "Positive correlation (0.19) between \"Survived\" and \"Fare,\" indicating that higher fares are associated with higher survival."
   ]
  },
  {
   "cell_type": "code",
   "execution_count": 31,
   "metadata": {},
   "outputs": [
    {
     "name": "stdout",
     "output_type": "stream",
     "text": [
      "<class 'pandas.core.frame.DataFrame'>\n",
      "RangeIndex: 418 entries, 0 to 417\n",
      "Data columns (total 7 columns):\n",
      " #   Column       Non-Null Count  Dtype  \n",
      "---  ------       --------------  -----  \n",
      " 0   Survived     418 non-null    int64  \n",
      " 1   Pclass       418 non-null    int64  \n",
      " 2   Sex          418 non-null    int32  \n",
      " 3   Age          418 non-null    float64\n",
      " 4   Fare         418 non-null    float64\n",
      " 5   Embarked     418 non-null    int32  \n",
      " 6   TravelAlone  418 non-null    int64  \n",
      "dtypes: float64(2), int32(2), int64(3)\n",
      "memory usage: 19.7 KB\n"
     ]
    }
   ],
   "source": [
    "df = df.drop('AgeBracket', axis=1)\n",
    "df.info()\n"
   ]
  },
  {
   "cell_type": "code",
   "execution_count": 32,
   "metadata": {},
   "outputs": [
    {
     "data": {
      "text/html": [
       "<div>\n",
       "<style scoped>\n",
       "    .dataframe tbody tr th:only-of-type {\n",
       "        vertical-align: middle;\n",
       "    }\n",
       "\n",
       "    .dataframe tbody tr th {\n",
       "        vertical-align: top;\n",
       "    }\n",
       "\n",
       "    .dataframe thead th {\n",
       "        text-align: right;\n",
       "    }\n",
       "</style>\n",
       "<table border=\"1\" class=\"dataframe\">\n",
       "  <thead>\n",
       "    <tr style=\"text-align: right;\">\n",
       "      <th></th>\n",
       "      <th>Survived</th>\n",
       "      <th>Pclass</th>\n",
       "      <th>Sex</th>\n",
       "      <th>Age</th>\n",
       "      <th>Fare</th>\n",
       "      <th>Embarked</th>\n",
       "      <th>TravelAlone</th>\n",
       "      <th>2</th>\n",
       "      <th>3</th>\n",
       "    </tr>\n",
       "  </thead>\n",
       "  <tbody>\n",
       "    <tr>\n",
       "      <th>0</th>\n",
       "      <td>0</td>\n",
       "      <td>3</td>\n",
       "      <td>1</td>\n",
       "      <td>34.50000</td>\n",
       "      <td>2.057860</td>\n",
       "      <td>1</td>\n",
       "      <td>1</td>\n",
       "      <td>0</td>\n",
       "      <td>1</td>\n",
       "    </tr>\n",
       "    <tr>\n",
       "      <th>1</th>\n",
       "      <td>1</td>\n",
       "      <td>3</td>\n",
       "      <td>0</td>\n",
       "      <td>47.00000</td>\n",
       "      <td>1.945910</td>\n",
       "      <td>2</td>\n",
       "      <td>0</td>\n",
       "      <td>0</td>\n",
       "      <td>1</td>\n",
       "    </tr>\n",
       "    <tr>\n",
       "      <th>2</th>\n",
       "      <td>0</td>\n",
       "      <td>2</td>\n",
       "      <td>1</td>\n",
       "      <td>62.00000</td>\n",
       "      <td>2.270836</td>\n",
       "      <td>1</td>\n",
       "      <td>1</td>\n",
       "      <td>1</td>\n",
       "      <td>0</td>\n",
       "    </tr>\n",
       "    <tr>\n",
       "      <th>3</th>\n",
       "      <td>0</td>\n",
       "      <td>3</td>\n",
       "      <td>1</td>\n",
       "      <td>27.00000</td>\n",
       "      <td>2.159003</td>\n",
       "      <td>2</td>\n",
       "      <td>1</td>\n",
       "      <td>0</td>\n",
       "      <td>1</td>\n",
       "    </tr>\n",
       "    <tr>\n",
       "      <th>4</th>\n",
       "      <td>1</td>\n",
       "      <td>3</td>\n",
       "      <td>0</td>\n",
       "      <td>22.00000</td>\n",
       "      <td>2.508582</td>\n",
       "      <td>2</td>\n",
       "      <td>0</td>\n",
       "      <td>0</td>\n",
       "      <td>1</td>\n",
       "    </tr>\n",
       "    <tr>\n",
       "      <th>...</th>\n",
       "      <td>...</td>\n",
       "      <td>...</td>\n",
       "      <td>...</td>\n",
       "      <td>...</td>\n",
       "      <td>...</td>\n",
       "      <td>...</td>\n",
       "      <td>...</td>\n",
       "      <td>...</td>\n",
       "      <td>...</td>\n",
       "    </tr>\n",
       "    <tr>\n",
       "      <th>413</th>\n",
       "      <td>0</td>\n",
       "      <td>3</td>\n",
       "      <td>1</td>\n",
       "      <td>30.27259</td>\n",
       "      <td>2.085672</td>\n",
       "      <td>2</td>\n",
       "      <td>1</td>\n",
       "      <td>0</td>\n",
       "      <td>1</td>\n",
       "    </tr>\n",
       "    <tr>\n",
       "      <th>414</th>\n",
       "      <td>1</td>\n",
       "      <td>1</td>\n",
       "      <td>0</td>\n",
       "      <td>39.00000</td>\n",
       "      <td>4.690430</td>\n",
       "      <td>0</td>\n",
       "      <td>1</td>\n",
       "      <td>0</td>\n",
       "      <td>0</td>\n",
       "    </tr>\n",
       "    <tr>\n",
       "      <th>415</th>\n",
       "      <td>0</td>\n",
       "      <td>3</td>\n",
       "      <td>1</td>\n",
       "      <td>38.50000</td>\n",
       "      <td>1.981001</td>\n",
       "      <td>2</td>\n",
       "      <td>1</td>\n",
       "      <td>0</td>\n",
       "      <td>1</td>\n",
       "    </tr>\n",
       "    <tr>\n",
       "      <th>416</th>\n",
       "      <td>0</td>\n",
       "      <td>3</td>\n",
       "      <td>1</td>\n",
       "      <td>30.27259</td>\n",
       "      <td>2.085672</td>\n",
       "      <td>2</td>\n",
       "      <td>1</td>\n",
       "      <td>0</td>\n",
       "      <td>1</td>\n",
       "    </tr>\n",
       "    <tr>\n",
       "      <th>417</th>\n",
       "      <td>0</td>\n",
       "      <td>3</td>\n",
       "      <td>1</td>\n",
       "      <td>30.27259</td>\n",
       "      <td>3.107198</td>\n",
       "      <td>0</td>\n",
       "      <td>0</td>\n",
       "      <td>0</td>\n",
       "      <td>1</td>\n",
       "    </tr>\n",
       "  </tbody>\n",
       "</table>\n",
       "<p>418 rows × 9 columns</p>\n",
       "</div>"
      ],
      "text/plain": [
       "     Survived  Pclass  Sex       Age      Fare  Embarked  TravelAlone  2  3\n",
       "0           0       3    1  34.50000  2.057860         1            1  0  1\n",
       "1           1       3    0  47.00000  1.945910         2            0  0  1\n",
       "2           0       2    1  62.00000  2.270836         1            1  1  0\n",
       "3           0       3    1  27.00000  2.159003         2            1  0  1\n",
       "4           1       3    0  22.00000  2.508582         2            0  0  1\n",
       "..        ...     ...  ...       ...       ...       ...          ... .. ..\n",
       "413         0       3    1  30.27259  2.085672         2            1  0  1\n",
       "414         1       1    0  39.00000  4.690430         0            1  0  0\n",
       "415         0       3    1  38.50000  1.981001         2            1  0  1\n",
       "416         0       3    1  30.27259  2.085672         2            1  0  1\n",
       "417         0       3    1  30.27259  3.107198         0            0  0  1\n",
       "\n",
       "[418 rows x 9 columns]"
      ]
     },
     "execution_count": 32,
     "metadata": {},
     "output_type": "execute_result"
    }
   ],
   "source": [
    "pcl=pd.get_dummies(df['Pclass'],drop_first=True)\n",
    "df=pd.concat([df,pcl],axis=1)\n",
    "df"
   ]
  },
  {
   "cell_type": "markdown",
   "metadata": {},
   "source": [
    "## `Modeling`\n",
    "\n",
    "#### `Train-test split`"
   ]
  },
  {
   "cell_type": "code",
   "execution_count": 33,
   "metadata": {},
   "outputs": [],
   "source": [
    "# Separate features (X) and target variable (y)\n",
    "X = df.drop(['Survived','Pclass'], axis=1)\n",
    "y = df['Survived']\n",
    "\n",
    "# Split the data into training and testing sets\n",
    "X_train, X_test, y_train, y_test = train_test_split(X, y, test_size=0.2, random_state=42)\n"
   ]
  },
  {
   "cell_type": "markdown",
   "metadata": {},
   "source": [
    "###  `1. Baseline Model`\n",
    "`Random Forest classifier`"
   ]
  },
  {
   "cell_type": "code",
   "execution_count": 34,
   "metadata": {},
   "outputs": [
    {
     "name": "stdout",
     "output_type": "stream",
     "text": [
      "Accuracy: 1.00\n",
      "\n",
      "Classification Report:\n",
      "               precision    recall  f1-score   support\n",
      "\n",
      "           0       1.00      1.00      1.00        50\n",
      "           1       1.00      1.00      1.00        34\n",
      "\n",
      "    accuracy                           1.00        84\n",
      "   macro avg       1.00      1.00      1.00        84\n",
      "weighted avg       1.00      1.00      1.00        84\n",
      "\n",
      "\n",
      "Confusion Matrix:\n",
      " [[50  0]\n",
      " [ 0 34]]\n"
     ]
    }
   ],
   "source": [
    "# Initialize the Random Forest Classifier\n",
    "b_model = RandomForestClassifier(random_state=42)\n",
    "\n",
    "# Train the model\n",
    "b_model.fit(X_train, y_train)\n",
    "\n",
    "# Make predictions on the test set\n",
    "y_pred = b_model.predict(X_test)\n",
    "\n",
    "# Evaluate the model\n",
    "accuracy = accuracy_score(y_test, y_pred)\n",
    "classification_rep = classification_report(y_test, y_pred)\n",
    "conf_matrix = confusion_matrix(y_test, y_pred)\n",
    "\n",
    "# Display the results\n",
    "print(f\"Accuracy: {accuracy:.2f}\\n\")\n",
    "print(\"Classification Report:\\n\", classification_rep)\n",
    "print(\"\\nConfusion Matrix:\\n\", conf_matrix)"
   ]
  },
  {
   "cell_type": "markdown",
   "metadata": {},
   "source": [
    " Perfect accuracy might indicate overfitting, and the model may not generalize well to new, unseen data"
   ]
  },
  {
   "cell_type": "code",
   "execution_count": 35,
   "metadata": {},
   "outputs": [
    {
     "name": "stdout",
     "output_type": "stream",
     "text": [
      "Cross-Validation Scores: [1. 1. 1.]\n",
      "Mean Accuracy: 1.0\n"
     ]
    }
   ],
   "source": [
    "from sklearn.model_selection import cross_val_score, StratifiedKFold\n",
    "# Define the cross-validation strategy\n",
    "cv = StratifiedKFold(n_splits=3, shuffle=True, random_state=42)\n",
    "\n",
    "# Perform cross-validation\n",
    "cv_scores = cross_val_score(b_model, X, y, cv=cv, scoring='accuracy')\n",
    "\n",
    "# Display the cross-validation scores\n",
    "print(\"Cross-Validation Scores:\", cv_scores)\n",
    "print(\"Mean Accuracy:\", cv_scores.mean())"
   ]
  },
  {
   "cell_type": "code",
   "execution_count": 36,
   "metadata": {},
   "outputs": [
    {
     "data": {
      "image/png": "[encoded data removed]",
      "text/plain": [
       "<Figure size 576x432 with 1 Axes>"
      ]
     },
     "metadata": {},
     "output_type": "display_data"
    }
   ],
   "source": [
    "from sklearn.metrics import roc_curve, auc\n",
    "\n",
    "# use your trained model\n",
    "y_train_prob = b_model.predict_proba(X_train)[:, 1]\n",
    "fpr_train, tpr_train, _ = roc_curve(y_train, y_train_prob)\n",
    "\n",
    "y_test_prob = b_model.predict_proba(X_test)[:, 1]\n",
    "fpr_test, tpr_test, _ = roc_curve(y_test, y_test_prob)\n",
    "\n",
    "# Plot ROC curves\n",
    "plt.figure(figsize=(8, 6))\n",
    "plt.plot(fpr_train, tpr_train, label='Train ROC curve (AUC = {:.2f})'.format(auc(fpr_train, tpr_train)))\n",
    "plt.plot(fpr_test, tpr_test, label='Test ROC curve (AUC = {:.2f})'.format(auc(fpr_test, tpr_test)))\n",
    "plt.plot([0, 1], [0, 1], linestyle='--', color='gray', label='Random')\n",
    "plt.xlabel('False Positive Rate')\n",
    "plt.ylabel('True Positive Rate')\n",
    "plt.title('Receiver Operating Characteristic (ROC) Curve')\n",
    "plt.legend()\n",
    "plt.show()\n"
   ]
  },
  {
   "cell_type": "code",
   "execution_count": 37,
   "metadata": {},
   "outputs": [
    {
     "name": "stdout",
     "output_type": "stream",
     "text": [
      "Train AUC: 1.00\n",
      "Test AUC: 1.00\n"
     ]
    }
   ],
   "source": [
    "from sklearn.metrics import roc_auc_score\n",
    "\n",
    "# Calculate AUC scores\n",
    "auc_train = roc_auc_score(y_train, y_train_prob)\n",
    "auc_test = roc_auc_score(y_test, y_test_prob)\n",
    "\n",
    "print('Train AUC: {:.2f}'.format(auc_train))\n",
    "print('Test AUC: {:.2f}'.format(auc_test))\n"
   ]
  },
  {
   "cell_type": "markdown",
   "metadata": {},
   "source": [
    "### `2. Logistic Regression`"
   ]
  },
  {
   "cell_type": "code",
   "execution_count": 38,
   "metadata": {},
   "outputs": [
    {
     "name": "stdout",
     "output_type": "stream",
     "text": [
      "Accuracy: 1.00\n",
      "\n",
      "Classification Report:\n",
      "               precision    recall  f1-score   support\n",
      "\n",
      "           0       1.00      1.00      1.00        50\n",
      "           1       1.00      1.00      1.00        34\n",
      "\n",
      "    accuracy                           1.00        84\n",
      "   macro avg       1.00      1.00      1.00        84\n",
      "weighted avg       1.00      1.00      1.00        84\n",
      "\n",
      "\n",
      "Confusion Matrix:\n",
      " [[50  0]\n",
      " [ 0 34]]\n"
     ]
    }
   ],
   "source": [
    "# Initialize the Logistic Regression model\n",
    "logreg_model = LogisticRegression(random_state=42)\n",
    "\n",
    "# Train the model\n",
    "logreg_model.fit(X_train, y_train)\n",
    "\n",
    "# Make predictions on the test set\n",
    "y_pred = logreg_model.predict(X_test)\n",
    "\n",
    "# Evaluate the model\n",
    "accuracy = accuracy_score(y_test, y_pred)\n",
    "classification_rep = classification_report(y_test, y_pred)\n",
    "conf_matrix = confusion_matrix(y_test, y_pred)\n",
    "\n",
    "# Display the summary\n",
    "print(f\"Accuracy: {accuracy:.2f}\\n\")\n",
    "print(\"Classification Report:\\n\", classification_rep)\n",
    "print(\"\\nConfusion Matrix:\\n\", conf_matrix)"
   ]
  },
  {
   "cell_type": "markdown",
   "metadata": {},
   "source": [
    "#### `3. Decision Tree Classifier`"
   ]
  },
  {
   "cell_type": "code",
   "execution_count": 39,
   "metadata": {},
   "outputs": [
    {
     "name": "stdout",
     "output_type": "stream",
     "text": [
      "Accuracy: 1.00\n",
      "\n",
      "Classification Report:\n",
      "               precision    recall  f1-score   support\n",
      "\n",
      "           0       1.00      1.00      1.00        50\n",
      "           1       1.00      1.00      1.00        34\n",
      "\n",
      "    accuracy                           1.00        84\n",
      "   macro avg       1.00      1.00      1.00        84\n",
      "weighted avg       1.00      1.00      1.00        84\n",
      "\n",
      "\n",
      "Confusion Matrix:\n",
      " [[50  0]\n",
      " [ 0 34]]\n"
     ]
    }
   ],
   "source": [
    "from sklearn.tree import DecisionTreeClassifier\n",
    "# Initialize the Decision Tree Classifier\n",
    "dt_model = DecisionTreeClassifier(random_state=42)\n",
    "\n",
    "# Train the model\n",
    "dt_model.fit(X_train, y_train)\n",
    "\n",
    "# Make predictions on the test set\n",
    "y_pred = dt_model.predict(X_test)\n",
    "\n",
    "# Evaluate the model\n",
    "accuracy = accuracy_score(y_test, y_pred)\n",
    "classification_rep = classification_report(y_test, y_pred)\n",
    "conf_matrix = confusion_matrix(y_test, y_pred)\n",
    "\n",
    "# Display the results\n",
    "print(f\"Accuracy: {accuracy:.2f}\\n\")\n",
    "print(\"Classification Report:\\n\", classification_rep)\n",
    "print(\"\\nConfusion Matrix:\\n\", conf_matrix)"
   ]
  },
  {
   "cell_type": "code",
   "execution_count": 40,
   "metadata": {},
   "outputs": [
    {
     "name": "stdout",
     "output_type": "stream",
     "text": [
      "Cross-Validation Scores: [1. 1. 1.]\n",
      "Mean Accuracy: 1.0\n"
     ]
    }
   ],
   "source": [
    "# Define the cross-validation strategy\n",
    "cv = StratifiedKFold(n_splits=3, shuffle=True, random_state=42)\n",
    "\n",
    "# Perform cross-validation\n",
    "cv_scores = cross_val_score(dt_model, X, y, cv=cv, scoring='accuracy')\n",
    "\n",
    "# Display the cross-validation scores\n",
    "print(\"Cross-Validation Scores:\", cv_scores)\n",
    "print(\"Mean Accuracy:\", cv_scores.mean())"
   ]
  },
  {
   "cell_type": "code",
   "execution_count": 41,
   "metadata": {},
   "outputs": [
    {
     "data": {
      "image/png": "[encoded data removed]",
      "text/plain": [
       "<Figure size 576x432 with 1 Axes>"
      ]
     },
     "metadata": {},
     "output_type": "display_data"
    }
   ],
   "source": [
    "# use your trained model\n",
    "y_train_prob = dt_model.predict_proba(X_train)[:, 1]\n",
    "fpr_train, tpr_train, _ = roc_curve(y_train, y_train_prob)\n",
    "\n",
    "y_test_prob = dt_model.predict_proba(X_test)[:, 1]\n",
    "fpr_test, tpr_test, _ = roc_curve(y_test, y_test_prob)\n",
    "\n",
    "# Plot ROC curves\n",
    "plt.figure(figsize=(8, 6))\n",
    "plt.plot(fpr_train, tpr_train, label='Train ROC curve (AUC = {:.2f})'.format(auc(fpr_train, tpr_train)))\n",
    "plt.plot(fpr_test, tpr_test, label='Test ROC curve (AUC = {:.2f})'.format(auc(fpr_test, tpr_test)))\n",
    "plt.plot([0, 1], [0, 1], linestyle='--', color='gray', label='Random')\n",
    "plt.xlabel('False Positive Rate')\n",
    "plt.ylabel('True Positive Rate')\n",
    "plt.title('Receiver Operating Characteristic (ROC) Curve')\n",
    "plt.legend()\n",
    "plt.show()"
   ]
  },
  {
   "cell_type": "code",
   "execution_count": 42,
   "metadata": {},
   "outputs": [
    {
     "name": "stdout",
     "output_type": "stream",
     "text": [
      "Train AUC: 1.00\n",
      "Test AUC: 1.00\n"
     ]
    }
   ],
   "source": [
    "# Calculate AUC scores\n",
    "auc_train = roc_auc_score(y_train, y_train_prob)\n",
    "auc_test = roc_auc_score(y_test, y_test_prob)\n",
    "\n",
    "print('Train AUC: {:.2f}'.format(auc_train))\n",
    "print('Test AUC: {:.2f}'.format(auc_test))"
   ]
  },
  {
   "cell_type": "markdown",
   "metadata": {},
   "source": [
    "#### `Support Vector Machine Classifier`"
   ]
  },
  {
   "cell_type": "code",
   "execution_count": 43,
   "metadata": {},
   "outputs": [
    {
     "name": "stdout",
     "output_type": "stream",
     "text": [
      "Accuracy: 0.60\n",
      "\n",
      "Classification Report:\n",
      "               precision    recall  f1-score   support\n",
      "\n",
      "           0       0.60      1.00      0.75        50\n",
      "           1       0.00      0.00      0.00        34\n",
      "\n",
      "    accuracy                           0.60        84\n",
      "   macro avg       0.30      0.50      0.37        84\n",
      "weighted avg       0.35      0.60      0.44        84\n",
      "\n",
      "\n",
      "Confusion Matrix:\n",
      " [[50  0]\n",
      " [34  0]]\n"
     ]
    },
    {
     "name": "stderr",
     "output_type": "stream",
     "text": [
      "C:\\Users\\Sharo\\AppData\\Local\\anaconda3\\envs\\learn-env\\lib\\site-packages\\sklearn\\metrics\\_classification.py:1221: UndefinedMetricWarning: Precision and F-score are ill-defined and being set to 0.0 in labels with no predicted samples. Use `zero_division` parameter to control this behavior.\n",
      "  _warn_prf(average, modifier, msg_start, len(result))\n"
     ]
    }
   ],
   "source": [
    "# Initialize the Support Vector Machine Classifier\n",
    "svm_model = SVC(probability=True, random_state=42)\n",
    "\n",
    "# Train the model\n",
    "svm_model.fit(X_train, y_train)\n",
    "\n",
    "# Make predictions on the test set\n",
    "y_pred = svm_model.predict(X_test)\n",
    "\n",
    "# Evaluate the model\n",
    "accuracy = accuracy_score(y_test, y_pred)\n",
    "classification_rep = classification_report(y_test, y_pred)\n",
    "conf_matrix = confusion_matrix(y_test, y_pred)\n",
    "\n",
    "# Display the results\n",
    "print(f\"Accuracy: {accuracy:.2f}\\n\")\n",
    "print(\"Classification Report:\\n\", classification_rep)\n",
    "print(\"\\nConfusion Matrix:\\n\", conf_matrix)"
   ]
  },
  {
   "cell_type": "code",
   "execution_count": 44,
   "metadata": {},
   "outputs": [
    {
     "name": "stdout",
     "output_type": "stream",
     "text": [
      "Cross-Validation Scores: [0.63571429 0.64028777 0.63309353]\n",
      "Mean Accuracy: 0.6363651935594382\n"
     ]
    }
   ],
   "source": [
    "# Define the cross-validation strategy\n",
    "cv = StratifiedKFold(n_splits=3, shuffle=True, random_state=42)\n",
    "\n",
    "# Perform cross-validation\n",
    "cv_scores = cross_val_score(svm_model, X, y, cv=cv, scoring='accuracy')\n",
    "\n",
    "# Display the cross-validation scores\n",
    "print(\"Cross-Validation Scores:\", cv_scores)\n",
    "print(\"Mean Accuracy:\", cv_scores.mean())"
   ]
  },
  {
   "cell_type": "code",
   "execution_count": 45,
   "metadata": {},
   "outputs": [
    {
     "data": {
      "image/png": "[encoded data removed]",
      "text/plain": [
       "<Figure size 576x432 with 1 Axes>"
      ]
     },
     "metadata": {},
     "output_type": "display_data"
    }
   ],
   "source": [
    "# using svm trained model\n",
    "y_train_prob = svm_model.predict_proba(X_train)[:, 1]\n",
    "fpr_train, tpr_train, _ = roc_curve(y_train, y_train_prob)\n",
    "\n",
    "y_test_prob = svm_model.predict_proba(X_test)[:, 1]\n",
    "fpr_test, tpr_test, _ = roc_curve(y_test, y_test_prob)\n",
    "\n",
    "# Plot ROC curves\n",
    "plt.figure(figsize=(8, 6))\n",
    "plt.plot(fpr_train, tpr_train, label='Train ROC curve (AUC = {:.2f})'.format(auc(fpr_train, tpr_train)))\n",
    "plt.plot(fpr_test, tpr_test, label='Test ROC curve (AUC = {:.2f})'.format(auc(fpr_test, tpr_test)))\n",
    "plt.plot([0, 1], [0, 1], linestyle='--', color='gray', label='Random')\n",
    "plt.xlabel('False Positive Rate')\n",
    "plt.ylabel('True Positive Rate')\n",
    "plt.title('Receiver Operating Characteristic (ROC) Curve')\n",
    "plt.legend()\n",
    "plt.show()"
   ]
  },
  {
   "cell_type": "code",
   "execution_count": 46,
   "metadata": {},
   "outputs": [
    {
     "name": "stdout",
     "output_type": "stream",
     "text": [
      "Train AUC: 0.99\n",
      "Test AUC: 1.00\n"
     ]
    }
   ],
   "source": [
    "# Calculate AUC scores\n",
    "auc_train = roc_auc_score(y_train, y_train_prob)\n",
    "auc_test = roc_auc_score(y_test, y_test_prob)\n",
    "\n",
    "print('Train AUC: {:.2f}'.format(auc_train))\n",
    "print('Test AUC: {:.2f}'.format(auc_test))"
   ]
  },
  {
   "cell_type": "markdown",
   "metadata": {},
   "source": [
    "#### `K-Nearest Neighbors Classifier`"
   ]
  },
  {
   "cell_type": "code",
   "execution_count": 47,
   "metadata": {},
   "outputs": [
    {
     "name": "stdout",
     "output_type": "stream",
     "text": [
      "Accuracy: 0.79\n",
      "\n",
      "Classification Report:\n",
      "               precision    recall  f1-score   support\n",
      "\n",
      "           0       0.77      0.92      0.84        50\n",
      "           1       0.83      0.59      0.69        34\n",
      "\n",
      "    accuracy                           0.79        84\n",
      "   macro avg       0.80      0.75      0.76        84\n",
      "weighted avg       0.79      0.79      0.78        84\n",
      "\n",
      "\n",
      "Confusion Matrix:\n",
      " [[46  4]\n",
      " [14 20]]\n"
     ]
    }
   ],
   "source": [
    "\n",
    "# Initialize the k-Nearest Neighbors Classifier\n",
    "knn_model = KNeighborsClassifier()\n",
    "\n",
    "# Train the model\n",
    "knn_model.fit(X_train, y_train)\n",
    "\n",
    "# Make predictions on the test set\n",
    "y_pred = knn_model.predict(X_test)\n",
    "\n",
    "# Evaluate the model\n",
    "accuracy = accuracy_score(y_test, y_pred)\n",
    "classification_rep = classification_report(y_test, y_pred)\n",
    "conf_matrix = confusion_matrix(y_test, y_pred)\n",
    "\n",
    "# Display the results\n",
    "print(f\"Accuracy: {accuracy:.2f}\\n\")\n",
    "print(\"Classification Report:\\n\", classification_rep)\n",
    "print(\"\\nConfusion Matrix:\\n\", conf_matrix)"
   ]
  },
  {
   "cell_type": "code",
   "execution_count": 48,
   "metadata": {},
   "outputs": [
    {
     "name": "stdout",
     "output_type": "stream",
     "text": [
      "Cross-Validation Scores: [0.76428571 0.79136691 0.79856115]\n",
      "Mean Accuracy: 0.784737923946557\n"
     ]
    }
   ],
   "source": [
    "# Define the cross-validation strategy\n",
    "cv = StratifiedKFold(n_splits=3, shuffle=True, random_state=42)\n",
    "\n",
    "# Perform cross-validation\n",
    "cv_scores = cross_val_score(knn_model, X, y, cv=cv, scoring='accuracy')\n",
    "\n",
    "# Display the cross-validation scores\n",
    "print(\"Cross-Validation Scores:\", cv_scores)\n",
    "print(\"Mean Accuracy:\", cv_scores.mean())"
   ]
  },
  {
   "cell_type": "code",
   "execution_count": 49,
   "metadata": {},
   "outputs": [
    {
     "data": {
      "image/png": "[encoded data removed]",
      "text/plain": [
       "<Figure size 576x432 with 1 Axes>"
      ]
     },
     "metadata": {},
     "output_type": "display_data"
    }
   ],
   "source": [
    "# using knn is your trained model\n",
    "y_train_prob = knn_model.predict_proba(X_train)[:, 1]\n",
    "fpr_train, tpr_train, _ = roc_curve(y_train, y_train_prob)\n",
    "\n",
    "y_test_prob = knn_model.predict_proba(X_test)[:, 1]\n",
    "fpr_test, tpr_test, _ = roc_curve(y_test, y_test_prob)\n",
    "\n",
    "# Plot ROC curves\n",
    "plt.figure(figsize=(8, 6))\n",
    "plt.plot(fpr_train, tpr_train, label='Train ROC curve (AUC = {:.2f})'.format(auc(fpr_train, tpr_train)))\n",
    "plt.plot(fpr_test, tpr_test, label='Test ROC curve (AUC = {:.2f})'.format(auc(fpr_test, tpr_test)))\n",
    "plt.plot([0, 1], [0, 1], linestyle='--', color='gray', label='Random')\n",
    "plt.xlabel('False Positive Rate')\n",
    "plt.ylabel('True Positive Rate')\n",
    "plt.title('Receiver Operating Characteristic (ROC) Curve')\n",
    "plt.legend()\n",
    "plt.show()"
   ]
  },
  {
   "cell_type": "code",
   "execution_count": 50,
   "metadata": {},
   "outputs": [
    {
     "name": "stdout",
     "output_type": "stream",
     "text": [
      "Train AUC: 0.95\n",
      "Test AUC: 0.88\n"
     ]
    }
   ],
   "source": [
    "# Calculate AUC scores\n",
    "auc_train = roc_auc_score(y_train, y_train_prob)\n",
    "auc_test = roc_auc_score(y_test, y_test_prob)\n",
    "\n",
    "print('Train AUC: {:.2f}'.format(auc_train))\n",
    "print('Test AUC: {:.2f}'.format(auc_test))"
   ]
  },
  {
   "cell_type": "markdown",
   "metadata": {},
   "source": [
    "## `Model Evaluation and Conclusion`\n",
    "\n",
    "We evaluated five different machine learning models on the task of predicting survival in the Titanic dataset. The models include Random Forest, Logistic Regression, Decision Tree, Support Vector Machine (SVM), and K-Nearest Neighbors (KNN). Below is a summary of the evaluation results:\n",
    "\n",
    "**Model Performance**"
   ]
  },
  {
   "cell_type": "code",
   "execution_count": 51,
   "metadata": {},
   "outputs": [
    {
     "data": {
      "text/html": [
       "<div>\n",
       "<style scoped>\n",
       "    .dataframe tbody tr th:only-of-type {\n",
       "        vertical-align: middle;\n",
       "    }\n",
       "\n",
       "    .dataframe tbody tr th {\n",
       "        vertical-align: top;\n",
       "    }\n",
       "\n",
       "    .dataframe thead th {\n",
       "        text-align: right;\n",
       "    }\n",
       "</style>\n",
       "<table border=\"1\" class=\"dataframe\">\n",
       "  <thead>\n",
       "    <tr style=\"text-align: right;\">\n",
       "      <th></th>\n",
       "      <th>Model</th>\n",
       "      <th>Accuracy</th>\n",
       "      <th>AUC</th>\n",
       "    </tr>\n",
       "  </thead>\n",
       "  <tbody>\n",
       "    <tr>\n",
       "      <th>0</th>\n",
       "      <td>Random Forest</td>\n",
       "      <td>1.000000</td>\n",
       "      <td>1.000000</td>\n",
       "    </tr>\n",
       "    <tr>\n",
       "      <th>1</th>\n",
       "      <td>Logistic Regression</td>\n",
       "      <td>1.000000</td>\n",
       "      <td>1.000000</td>\n",
       "    </tr>\n",
       "    <tr>\n",
       "      <th>2</th>\n",
       "      <td>Decision Tree</td>\n",
       "      <td>1.000000</td>\n",
       "      <td>1.000000</td>\n",
       "    </tr>\n",
       "    <tr>\n",
       "      <th>3</th>\n",
       "      <td>Support Vector Machine</td>\n",
       "      <td>0.595238</td>\n",
       "      <td>1.000000</td>\n",
       "    </tr>\n",
       "    <tr>\n",
       "      <th>4</th>\n",
       "      <td>K-Nearest Neighbors</td>\n",
       "      <td>0.785714</td>\n",
       "      <td>0.875882</td>\n",
       "    </tr>\n",
       "  </tbody>\n",
       "</table>\n",
       "</div>"
      ],
      "text/plain": [
       "                    Model  Accuracy       AUC\n",
       "0           Random Forest  1.000000  1.000000\n",
       "1     Logistic Regression  1.000000  1.000000\n",
       "2           Decision Tree  1.000000  1.000000\n",
       "3  Support Vector Machine  0.595238  1.000000\n",
       "4     K-Nearest Neighbors  0.785714  0.875882"
      ]
     },
     "execution_count": 51,
     "metadata": {},
     "output_type": "execute_result"
    }
   ],
   "source": [
    "#  list of trained models\n",
    "models = [b_model, logreg_model, dt_model, svm_model, knn_model]\n",
    "\n",
    "# Data\n",
    "model_names = ['Random Forest', 'Logistic Regression', 'Decision Tree', 'Support Vector Machine', 'K-Nearest Neighbors']\n",
    "accuracy_scores = []\n",
    "auc_scores = []\n",
    "\n",
    "# Loop through the trained models\n",
    "for model in models:\n",
    "    # Make predictions on the test set\n",
    "    y_pred = model.predict(X_test)\n",
    "    \n",
    "    # Calculate accuracy\n",
    "    accuracy = accuracy_score(y_test, y_pred)\n",
    "    accuracy_scores.append(accuracy)\n",
    "    \n",
    "    # Calculate AUC\n",
    "    y_test_prob = model.predict_proba(X_test)[:, 1]\n",
    "    auc = roc_auc_score(y_test, y_test_prob)\n",
    "    auc_scores.append(auc)\n",
    "\n",
    "# Create a DataFrame\n",
    "results_df = pd.DataFrame({\n",
    "    'Model': model_names,\n",
    "    'Accuracy': accuracy_scores,\n",
    "    'AUC': auc_scores\n",
    "})\n",
    "\n",
    "# Display the DataFrame\n",
    "results_df"
   ]
  },
  {
   "cell_type": "markdown",
   "metadata": {},
   "source": [
    "#### `Evaluation Summary`\n",
    "\n",
    "1. **Random Forest, Logistic Regression, and Decision Tree:**\n",
    "   - Achieved perfect accuracy (1.000000) on the test set.\n",
    "   - Demonstrated excellent performance with AUC scores of 1.000000.\n",
    "\n",
    "2. **Support Vector Machine (SVM):**\n",
    "   - Showed moderate accuracy (0.595238) on the test set.\n",
    "   - Achieved a perfect AUC score of 1.000000.\n",
    "\n",
    "3. **K-Nearest Neighbors (KNN):**\n",
    "   - Demonstrated good accuracy (0.785714) on the test set.\n",
    "   - Showed a respectable AUC score of 0.875882."
   ]
  },
  {
   "cell_type": "markdown",
   "metadata": {},
   "source": [
    "#### `Conclusion`\n",
    "\n",
    "The Random Forest, Logistic Regression, and Decision Tree models performed exceptionally well, achieving perfect accuracy and AUC scores. These models are strong candidates for predicting survival in the Titanic dataset.\n",
    "\n",
    "While the Support Vector Machine (SVM) model achieved a perfect AUC score, its accuracy was relatively lower. Further optimization or exploration of hyperparameters may enhance its performance.\n",
    "\n",
    "The K-Nearest Neighbors (KNN) model demonstrated good accuracy and a reasonable AUC score, making it a viable choice for this task.\n",
    "\n",
    "Successfully addressing the project's goal of predicting survival on the Titanic, our models, particularly Random Forest, Logistic Regression, and Decision Tree, exhibited outstanding accuracy and performance. Leveraging machine learning techniques, we effectively captured patterns in the dataset, showcasing the project's success in predictive modeling.\n",
    "\n",
    "#### `Recommendations:`\n",
    "\n",
    "`Deployment Priorities:`\n",
    "\n",
    "Primary Models: Prioritize deploying Random Forest, Logistic Regression, or Decision Tree models for real-world applications due to their exceptional accuracy.\n",
    "Continuous Monitoring: Implement continuous monitoring to ensure ongoing effectiveness in a dynamic environment.\n",
    "Future Enhancements:\n",
    "\n",
    "`Feature Expansion:` Explore additional features or external datasets to enrich predictive capabilities.\n",
    "Ensemble Strategies: Investigate ensemble techniques for combining model strengths and mitigating weaknesses.\n",
    "User Considerations:\n",
    "\n",
    "`Interpretability:` For scenarios requiring interpretability, Logistic Regression may be preferable.\n",
    "Trade-offs: Understand trade-offs between model complexity and interpretability based on user requirements.\n",
    "Data Improvement:\n",
    "\n",
    "`Data Quality:` Ensure ongoing data quality and relevance for sustained model accuracy.\n",
    "Diversity: Incorporate additional datasets or diverse sources to enhance model robustness.\n",
    "Continuous Learning:\n",
    "\n",
    "`Stay Informed:` Keep abreast of advancements in machine learning to incorporate cutting-edge techniques.\n",
    "\n",
    "`Validation:` Periodically validate models against new datasets to confirm generalization.\n"
   ]
  }
 ],
 "metadata": {
  "kernelspec": {
   "display_name": "Python (learn-env)",
   "language": "python",
   "name": "learn-env"
  },
  "language_info": {
   "codemirror_mode": {
    "name": "ipython",
    "version": 3
   },
   "file_extension": ".py",
   "mimetype": "text/x-python",
   "name": "python",
   "nbconvert_exporter": "python",
   "pygments_lexer": "ipython3",
   "version": "3.8.5"
  }
 },
 "nbformat": 4,
 "nbformat_minor": 4
}
